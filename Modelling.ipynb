{
 "cells": [
  {
   "cell_type": "markdown",
   "id": "bfed520f",
   "metadata": {},
   "source": [
    "# Modelling "
   ]
  },
  {
   "cell_type": "code",
   "execution_count": 47,
   "id": "743a2834",
   "metadata": {},
   "outputs": [],
   "source": [
    "import matplotlib.pyplot as plt\n",
    "import numpy as np\n",
    "import pandas as pd\n",
    "import seaborn as sns\n"
   ]
  },
  {
   "cell_type": "markdown",
   "id": "94bd895c",
   "metadata": {},
   "source": [
    "**Theory Reminder**\n",
    "- Unsupervised learning: estimating functions withouut the aid of outcome variable y. We only observe X and want to learn sth about its structure\n",
    " - Supervised machine learning: estimating function with known observations and outcome data (guess the values of y from the X variables). Useful for observations for which y is unknown and X is known ??\n",
    " - Supervised machine learning and/or econometrics: build a predictive model for a variable of interest, using explanatory variables (or features)\n",
    "     - Econometrics: probabilisic models designed to describe economic phenomena\n",
    "    - Machine Learning: algorithms search through a set of possible prediction models that capture the best relationship"
   ]
  },
  {
   "cell_type": "markdown",
   "id": "bd8a0c4b",
   "metadata": {},
   "source": [
    "**Supervised ML**\n",
    "- typical supervised ML procedure:\n",
    "    1. Labeled data: decompose the observations in test/training set and pre-processing of the input variables\n",
    "    2. Learning: on a restricted sample: the training set; use an alogorithm to \"learn\" the association pattern between the input variables and the label\n",
    "    3. Assessing how the model fits the data (and choosing the best model): test the validity of the model on a test set (sample of the labeled data that had been held out); fit measured using the mean squarred error\"\n",
    "    4. Training the best model on the full data\n",
    "    5. Using the trained model for prediction tasks\n",
    "  "
   ]
  },
  {
   "cell_type": "markdown",
   "id": "ae4b23ff",
   "metadata": {},
   "source": [
    "# Loading the data"
   ]
  },
  {
   "cell_type": "code",
   "execution_count": 60,
   "id": "7a997609",
   "metadata": {
    "scrolled": true
   },
   "outputs": [
    {
     "data": {
      "text/html": [
       "<div>\n",
       "<style scoped>\n",
       "    .dataframe tbody tr th:only-of-type {\n",
       "        vertical-align: middle;\n",
       "    }\n",
       "\n",
       "    .dataframe tbody tr th {\n",
       "        vertical-align: top;\n",
       "    }\n",
       "\n",
       "    .dataframe thead th {\n",
       "        text-align: right;\n",
       "    }\n",
       "</style>\n",
       "<table border=\"1\" class=\"dataframe\">\n",
       "  <thead>\n",
       "    <tr style=\"text-align: right;\">\n",
       "      <th></th>\n",
       "      <th>Name</th>\n",
       "      <th>Type</th>\n",
       "      <th>hote premium</th>\n",
       "      <th>Price per Night</th>\n",
       "      <th>Total Price</th>\n",
       "      <th>Rating</th>\n",
       "      <th>Appreciations</th>\n",
       "      <th>Type of annoucement</th>\n",
       "      <th>Number of Guests</th>\n",
       "      <th>Number of Bedrooms</th>\n",
       "      <th>Number of Beds</th>\n",
       "      <th>lieu</th>\n",
       "      <th>latitude</th>\n",
       "      <th>longitude</th>\n",
       "    </tr>\n",
       "  </thead>\n",
       "  <tbody>\n",
       "    <tr>\n",
       "      <th>0</th>\n",
       "      <td>95 m2 Appartement 5étage , 3 chambres, Wi-fi, ...</td>\n",
       "      <td>Appartement</td>\n",
       "      <td>1</td>\n",
       "      <td>122</td>\n",
       "      <td>1592</td>\n",
       "      <td>4.5</td>\n",
       "      <td>51</td>\n",
       "      <td>Particulier</td>\n",
       "      <td>7</td>\n",
       "      <td>3</td>\n",
       "      <td>7</td>\n",
       "      <td>Koksijde-Bad</td>\n",
       "      <td>51.118739</td>\n",
       "      <td>2.634960</td>\n",
       "    </tr>\n",
       "    <tr>\n",
       "      <th>1</th>\n",
       "      <td>Chalet confortable logé en forêt près de Durbuy</td>\n",
       "      <td>Chalet</td>\n",
       "      <td>1</td>\n",
       "      <td>114</td>\n",
       "      <td>1477</td>\n",
       "      <td>4.7</td>\n",
       "      <td>59</td>\n",
       "      <td>Particulier</td>\n",
       "      <td>5</td>\n",
       "      <td>2</td>\n",
       "      <td>4</td>\n",
       "      <td>Barvaux</td>\n",
       "      <td>50.350609</td>\n",
       "      <td>5.493284</td>\n",
       "    </tr>\n",
       "    <tr>\n",
       "      <th>2</th>\n",
       "      <td>Bel appartement pour 2 personnes avec WIFI, TV...</td>\n",
       "      <td>Appartement</td>\n",
       "      <td>0</td>\n",
       "      <td>77</td>\n",
       "      <td>1005</td>\n",
       "      <td>5.0</td>\n",
       "      <td>1</td>\n",
       "      <td>Annonce professionnelle</td>\n",
       "      <td>2</td>\n",
       "      <td>1</td>\n",
       "      <td>0</td>\n",
       "      <td>Bredene</td>\n",
       "      <td>51.238941</td>\n",
       "      <td>2.972449</td>\n",
       "    </tr>\n",
       "    <tr>\n",
       "      <th>3</th>\n",
       "      <td>Magnifique appartement vue sur mer</td>\n",
       "      <td>Appartement</td>\n",
       "      <td>0</td>\n",
       "      <td>175</td>\n",
       "      <td>2274</td>\n",
       "      <td>0.0</td>\n",
       "      <td>0</td>\n",
       "      <td>Particulier</td>\n",
       "      <td>5</td>\n",
       "      <td>2</td>\n",
       "      <td>4</td>\n",
       "      <td>Albertstrand</td>\n",
       "      <td>51.346426</td>\n",
       "      <td>3.275348</td>\n",
       "    </tr>\n",
       "    <tr>\n",
       "      <th>4</th>\n",
       "      <td>Près du Parlement Européen - Appartement rénov...</td>\n",
       "      <td>Appartement</td>\n",
       "      <td>1</td>\n",
       "      <td>100</td>\n",
       "      <td>1298</td>\n",
       "      <td>4.7</td>\n",
       "      <td>94</td>\n",
       "      <td>Particulier</td>\n",
       "      <td>5</td>\n",
       "      <td>2</td>\n",
       "      <td>3</td>\n",
       "      <td>European Quarter</td>\n",
       "      <td>50.842350</td>\n",
       "      <td>4.383945</td>\n",
       "    </tr>\n",
       "    <tr>\n",
       "      <th>...</th>\n",
       "      <td>...</td>\n",
       "      <td>...</td>\n",
       "      <td>...</td>\n",
       "      <td>...</td>\n",
       "      <td>...</td>\n",
       "      <td>...</td>\n",
       "      <td>...</td>\n",
       "      <td>...</td>\n",
       "      <td>...</td>\n",
       "      <td>...</td>\n",
       "      <td>...</td>\n",
       "      <td>...</td>\n",
       "      <td>...</td>\n",
       "      <td>...</td>\n",
       "    </tr>\n",
       "    <tr>\n",
       "      <th>418</th>\n",
       "      <td>3 N appartement</td>\n",
       "      <td>Appartement</td>\n",
       "      <td>0</td>\n",
       "      <td>113</td>\n",
       "      <td>1472</td>\n",
       "      <td>0.0</td>\n",
       "      <td>0</td>\n",
       "      <td>Particulier</td>\n",
       "      <td>6</td>\n",
       "      <td>2</td>\n",
       "      <td>1</td>\n",
       "      <td>Eupen</td>\n",
       "      <td>50.630567</td>\n",
       "      <td>6.031272</td>\n",
       "    </tr>\n",
       "    <tr>\n",
       "      <th>419</th>\n",
       "      <td>Appartement Van Hecke dans le centre-ville d'A...</td>\n",
       "      <td>Appartement</td>\n",
       "      <td>0</td>\n",
       "      <td>165</td>\n",
       "      <td>2143</td>\n",
       "      <td>0.0</td>\n",
       "      <td>0</td>\n",
       "      <td>Annonce professionnelle</td>\n",
       "      <td>2</td>\n",
       "      <td>1</td>\n",
       "      <td>0</td>\n",
       "      <td>Sint-Andries</td>\n",
       "      <td>51.192022</td>\n",
       "      <td>3.178019</td>\n",
       "    </tr>\n",
       "    <tr>\n",
       "      <th>420</th>\n",
       "      <td>Villa Oostduinkerke</td>\n",
       "      <td>Villa</td>\n",
       "      <td>0</td>\n",
       "      <td>89</td>\n",
       "      <td>1156</td>\n",
       "      <td>0.0</td>\n",
       "      <td>0</td>\n",
       "      <td>Particulier</td>\n",
       "      <td>6</td>\n",
       "      <td>3</td>\n",
       "      <td>4</td>\n",
       "      <td>Oostduinkerke</td>\n",
       "      <td>51.115634</td>\n",
       "      <td>2.681266</td>\n",
       "    </tr>\n",
       "    <tr>\n",
       "      <th>421</th>\n",
       "      <td>Appartement privé sise à Chaussée de Haecht, 3...</td>\n",
       "      <td>Appartement</td>\n",
       "      <td>0</td>\n",
       "      <td>129</td>\n",
       "      <td>1678</td>\n",
       "      <td>3.5</td>\n",
       "      <td>2</td>\n",
       "      <td>Particulier</td>\n",
       "      <td>4</td>\n",
       "      <td>2</td>\n",
       "      <td>3</td>\n",
       "      <td>Collignon</td>\n",
       "      <td>50.867604</td>\n",
       "      <td>4.373712</td>\n",
       "    </tr>\n",
       "    <tr>\n",
       "      <th>422</th>\n",
       "      <td>Smartflats Manneken Pis V - 1 Chambre - Centre...</td>\n",
       "      <td>Appartement</td>\n",
       "      <td>0</td>\n",
       "      <td>216</td>\n",
       "      <td>2809</td>\n",
       "      <td>3.3</td>\n",
       "      <td>3</td>\n",
       "      <td>Annonce professionnelle</td>\n",
       "      <td>2</td>\n",
       "      <td>1</td>\n",
       "      <td>1</td>\n",
       "      <td>Quartier du Centre - Centrumwijk</td>\n",
       "      <td>50.846718</td>\n",
       "      <td>4.353221</td>\n",
       "    </tr>\n",
       "  </tbody>\n",
       "</table>\n",
       "<p>423 rows × 14 columns</p>\n",
       "</div>"
      ],
      "text/plain": [
       "                                                  Name         Type  \\\n",
       "0    95 m2 Appartement 5étage , 3 chambres, Wi-fi, ...  Appartement   \n",
       "1      Chalet confortable logé en forêt près de Durbuy       Chalet   \n",
       "2    Bel appartement pour 2 personnes avec WIFI, TV...  Appartement   \n",
       "3                   Magnifique appartement vue sur mer  Appartement   \n",
       "4    Près du Parlement Européen - Appartement rénov...  Appartement   \n",
       "..                                                 ...          ...   \n",
       "418                                    3 N appartement  Appartement   \n",
       "419  Appartement Van Hecke dans le centre-ville d'A...  Appartement   \n",
       "420                                Villa Oostduinkerke        Villa   \n",
       "421  Appartement privé sise à Chaussée de Haecht, 3...  Appartement   \n",
       "422  Smartflats Manneken Pis V - 1 Chambre - Centre...  Appartement   \n",
       "\n",
       "     hote premium  Price per Night  Total Price  Rating  Appreciations  \\\n",
       "0               1              122         1592     4.5             51   \n",
       "1               1              114         1477     4.7             59   \n",
       "2               0               77         1005     5.0              1   \n",
       "3               0              175         2274     0.0              0   \n",
       "4               1              100         1298     4.7             94   \n",
       "..            ...              ...          ...     ...            ...   \n",
       "418             0              113         1472     0.0              0   \n",
       "419             0              165         2143     0.0              0   \n",
       "420             0               89         1156     0.0              0   \n",
       "421             0              129         1678     3.5              2   \n",
       "422             0              216         2809     3.3              3   \n",
       "\n",
       "         Type of annoucement  Number of Guests  Number of Bedrooms  \\\n",
       "0                Particulier                 7                   3   \n",
       "1                Particulier                 5                   2   \n",
       "2    Annonce professionnelle                 2                   1   \n",
       "3                Particulier                 5                   2   \n",
       "4                Particulier                 5                   2   \n",
       "..                       ...               ...                 ...   \n",
       "418              Particulier                 6                   2   \n",
       "419  Annonce professionnelle                 2                   1   \n",
       "420              Particulier                 6                   3   \n",
       "421              Particulier                 4                   2   \n",
       "422  Annonce professionnelle                 2                   1   \n",
       "\n",
       "     Number of Beds                              lieu   latitude  longitude  \n",
       "0                 7                      Koksijde-Bad  51.118739   2.634960  \n",
       "1                 4                           Barvaux  50.350609   5.493284  \n",
       "2                 0                           Bredene  51.238941   2.972449  \n",
       "3                 4                      Albertstrand  51.346426   3.275348  \n",
       "4                 3                  European Quarter  50.842350   4.383945  \n",
       "..              ...                               ...        ...        ...  \n",
       "418               1                             Eupen  50.630567   6.031272  \n",
       "419               0                      Sint-Andries  51.192022   3.178019  \n",
       "420               4                     Oostduinkerke  51.115634   2.681266  \n",
       "421               3                         Collignon  50.867604   4.373712  \n",
       "422               1  Quartier du Centre - Centrumwijk  50.846718   4.353221  \n",
       "\n",
       "[423 rows x 14 columns]"
      ]
     },
     "execution_count": 60,
     "metadata": {},
     "output_type": "execute_result"
    }
   ],
   "source": [
    "df=pd.read_excel(\"C:/Users/32498/Downloads/ECON2206-Data-Management-2023-main/GitHub/Project-data/Abritel_merged.xlsx\")\n",
    "df"
   ]
  },
  {
   "cell_type": "code",
   "execution_count": 49,
   "id": "4cb7eea4",
   "metadata": {
    "scrolled": false
   },
   "outputs": [
    {
     "data": {
      "text/html": [
       "<div>\n",
       "<style scoped>\n",
       "    .dataframe tbody tr th:only-of-type {\n",
       "        vertical-align: middle;\n",
       "    }\n",
       "\n",
       "    .dataframe tbody tr th {\n",
       "        vertical-align: top;\n",
       "    }\n",
       "\n",
       "    .dataframe thead th {\n",
       "        text-align: right;\n",
       "    }\n",
       "</style>\n",
       "<table border=\"1\" class=\"dataframe\">\n",
       "  <thead>\n",
       "    <tr style=\"text-align: right;\">\n",
       "      <th></th>\n",
       "      <th>Name</th>\n",
       "      <th>Type</th>\n",
       "      <th>hote premium</th>\n",
       "      <th>Price per Night</th>\n",
       "      <th>Total Price</th>\n",
       "      <th>Rating</th>\n",
       "      <th>Appreciations</th>\n",
       "      <th>Type of annoucement</th>\n",
       "      <th>Number of Guests</th>\n",
       "      <th>Number of Bedrooms</th>\n",
       "      <th>Number of Beds</th>\n",
       "      <th>lieu</th>\n",
       "      <th>latitude</th>\n",
       "      <th>longitude</th>\n",
       "    </tr>\n",
       "  </thead>\n",
       "  <tbody>\n",
       "    <tr>\n",
       "      <th>418</th>\n",
       "      <td>3 N appartement</td>\n",
       "      <td>Appartement</td>\n",
       "      <td>0</td>\n",
       "      <td>113.0</td>\n",
       "      <td>1472.0</td>\n",
       "      <td>0.0</td>\n",
       "      <td>0.0</td>\n",
       "      <td>Particulier</td>\n",
       "      <td>6.0</td>\n",
       "      <td>2.0</td>\n",
       "      <td>1.0</td>\n",
       "      <td>Eupen</td>\n",
       "      <td>50.630567</td>\n",
       "      <td>6.031272</td>\n",
       "    </tr>\n",
       "    <tr>\n",
       "      <th>419</th>\n",
       "      <td>Appartement Van Hecke dans le centre-ville d'A...</td>\n",
       "      <td>Appartement</td>\n",
       "      <td>0</td>\n",
       "      <td>165.0</td>\n",
       "      <td>2143.0</td>\n",
       "      <td>0.0</td>\n",
       "      <td>0.0</td>\n",
       "      <td>Annonce professionnelle</td>\n",
       "      <td>2.0</td>\n",
       "      <td>1.0</td>\n",
       "      <td>0.0</td>\n",
       "      <td>Sint-Andries</td>\n",
       "      <td>51.192022</td>\n",
       "      <td>3.178019</td>\n",
       "    </tr>\n",
       "    <tr>\n",
       "      <th>420</th>\n",
       "      <td>Villa Oostduinkerke</td>\n",
       "      <td>Villa</td>\n",
       "      <td>0</td>\n",
       "      <td>89.0</td>\n",
       "      <td>1156.0</td>\n",
       "      <td>0.0</td>\n",
       "      <td>0.0</td>\n",
       "      <td>Particulier</td>\n",
       "      <td>6.0</td>\n",
       "      <td>3.0</td>\n",
       "      <td>4.0</td>\n",
       "      <td>Oostduinkerke</td>\n",
       "      <td>51.115634</td>\n",
       "      <td>2.681266</td>\n",
       "    </tr>\n",
       "    <tr>\n",
       "      <th>421</th>\n",
       "      <td>Appartement privé sise à Chaussée de Haecht, 3...</td>\n",
       "      <td>Appartement</td>\n",
       "      <td>0</td>\n",
       "      <td>129.0</td>\n",
       "      <td>1678.0</td>\n",
       "      <td>3.5</td>\n",
       "      <td>2.0</td>\n",
       "      <td>Particulier</td>\n",
       "      <td>4.0</td>\n",
       "      <td>2.0</td>\n",
       "      <td>3.0</td>\n",
       "      <td>Collignon</td>\n",
       "      <td>50.867604</td>\n",
       "      <td>4.373712</td>\n",
       "    </tr>\n",
       "    <tr>\n",
       "      <th>422</th>\n",
       "      <td>Smartflats Manneken Pis V - 1 Chambre - Centre...</td>\n",
       "      <td>Appartement</td>\n",
       "      <td>0</td>\n",
       "      <td>216.0</td>\n",
       "      <td>2809.0</td>\n",
       "      <td>3.3</td>\n",
       "      <td>3.0</td>\n",
       "      <td>Annonce professionnelle</td>\n",
       "      <td>2.0</td>\n",
       "      <td>1.0</td>\n",
       "      <td>1.0</td>\n",
       "      <td>Quartier du Centre - Centrumwijk</td>\n",
       "      <td>50.846718</td>\n",
       "      <td>4.353221</td>\n",
       "    </tr>\n",
       "  </tbody>\n",
       "</table>\n",
       "</div>"
      ],
      "text/plain": [
       "                                                  Name         Type  \\\n",
       "418                                    3 N appartement  Appartement   \n",
       "419  Appartement Van Hecke dans le centre-ville d'A...  Appartement   \n",
       "420                                Villa Oostduinkerke        Villa   \n",
       "421  Appartement privé sise à Chaussée de Haecht, 3...  Appartement   \n",
       "422  Smartflats Manneken Pis V - 1 Chambre - Centre...  Appartement   \n",
       "\n",
       "     hote premium  Price per Night  Total Price  Rating  Appreciations  \\\n",
       "418             0            113.0       1472.0     0.0            0.0   \n",
       "419             0            165.0       2143.0     0.0            0.0   \n",
       "420             0             89.0       1156.0     0.0            0.0   \n",
       "421             0            129.0       1678.0     3.5            2.0   \n",
       "422             0            216.0       2809.0     3.3            3.0   \n",
       "\n",
       "         Type of annoucement  Number of Guests  Number of Bedrooms  \\\n",
       "418              Particulier               6.0                 2.0   \n",
       "419  Annonce professionnelle               2.0                 1.0   \n",
       "420              Particulier               6.0                 3.0   \n",
       "421              Particulier               4.0                 2.0   \n",
       "422  Annonce professionnelle               2.0                 1.0   \n",
       "\n",
       "     Number of Beds                              lieu   latitude  longitude  \n",
       "418             1.0                             Eupen  50.630567   6.031272  \n",
       "419             0.0                      Sint-Andries  51.192022   3.178019  \n",
       "420             4.0                     Oostduinkerke  51.115634   2.681266  \n",
       "421             3.0                         Collignon  50.867604   4.373712  \n",
       "422             1.0  Quartier du Centre - Centrumwijk  50.846718   4.353221  "
      ]
     },
     "execution_count": 49,
     "metadata": {},
     "output_type": "execute_result"
    }
   ],
   "source": [
    "df['Price per Night']=df['Price per Night'].astype(float)\n",
    "df['Total Price']=df['Total Price'].astype(float)\n",
    "df['Number of Guests'] = df['Number of Guests'].astype(float)\n",
    "df['Number of Bedrooms'] =df['Number of Bedrooms'].astype(float)\n",
    "df['Number of Beds'] = df['Number of Beds'].astype(float)\n",
    "df['Rating'] = df['Rating'].astype(float)\n",
    "df['Appreciations'] = df['Appreciations'].astype(float)\n",
    "#mapping = {'Annonce professionnelle': 1, 'Particulier': 0, 'rien': 'None'}\n",
    "#df['Type of annoucement'] = df['Type of annoucement'].map(mapping)\n",
    "df.tail()"
   ]
  },
  {
   "cell_type": "code",
   "execution_count": 50,
   "id": "4226d6ea",
   "metadata": {
    "scrolled": true
   },
   "outputs": [
    {
     "name": "stdout",
     "output_type": "stream",
     "text": [
      "Name                    object\n",
      "Type                    object\n",
      "hote premium             int64\n",
      "Price per Night        float64\n",
      "Total Price            float64\n",
      "Rating                 float64\n",
      "Appreciations          float64\n",
      "Type of annoucement     object\n",
      "Number of Guests       float64\n",
      "Number of Bedrooms     float64\n",
      "Number of Beds         float64\n",
      "lieu                    object\n",
      "latitude               float64\n",
      "longitude              float64\n",
      "dtype: object\n"
     ]
    }
   ],
   "source": [
    "print(df.dtypes)"
   ]
  },
  {
   "cell_type": "code",
   "execution_count": 51,
   "id": "347b6298",
   "metadata": {
    "scrolled": true
   },
   "outputs": [
    {
     "data": {
      "image/png": "[encoded data removed]",
      "text/plain": [
       "<Figure size 1200x2200 with 36 Axes>"
      ]
     },
     "metadata": {},
     "output_type": "display_data"
    }
   ],
   "source": [
    "df_numerical = df.select_dtypes(include='float')\n",
    "\n",
    "df_numerical.hist(bins=20, figsize=(12, 22), edgecolor=\"black\",\n",
    "                    layout=(9, 4))\n",
    "plt.subplots_adjust(hspace=0.8, wspace=0.8)"
   ]
  },
  {
   "cell_type": "markdown",
   "id": "08a7e2a7",
   "metadata": {},
   "source": [
    "# Econometrics regression"
   ]
  },
  {
   "cell_type": "code",
   "execution_count": 52,
   "id": "759731a4",
   "metadata": {},
   "outputs": [],
   "source": [
    "import os\n",
    "import sys\n",
    "import warnings\n",
    "\n",
    "import numpy as np\n",
    "import pandas as pd\n",
    "import statsmodels.api as sm\n",
    "import statsmodels.formula.api as smf\n",
    "from scipy.stats import norm\n",
    "from IPython.core.display import HTML\n",
    "\n",
    "warnings.filterwarnings(\"ignore\")"
   ]
  },
  {
   "cell_type": "markdown",
   "id": "49e0b0c5",
   "metadata": {},
   "source": [
    "$$\\PriceperNight = \\alpha + \\beta_1 \\texttt{Rating} + \\beta_2 \\texttt{Number of Guests} + \\epsilon $$"
   ]
  },
  {
   "cell_type": "code",
   "execution_count": 53,
   "id": "c6180ab0",
   "metadata": {},
   "outputs": [
    {
     "data": {
      "text/html": [
       "<div>\n",
       "<style scoped>\n",
       "    .dataframe tbody tr th:only-of-type {\n",
       "        vertical-align: middle;\n",
       "    }\n",
       "\n",
       "    .dataframe tbody tr th {\n",
       "        vertical-align: top;\n",
       "    }\n",
       "\n",
       "    .dataframe thead th {\n",
       "        text-align: right;\n",
       "    }\n",
       "</style>\n",
       "<table border=\"1\" class=\"dataframe\">\n",
       "  <thead>\n",
       "    <tr style=\"text-align: right;\">\n",
       "      <th></th>\n",
       "      <th>Name</th>\n",
       "      <th>Type</th>\n",
       "      <th>hote premium</th>\n",
       "      <th>Price per Night</th>\n",
       "      <th>Total Price</th>\n",
       "      <th>Rating</th>\n",
       "      <th>Appreciations</th>\n",
       "      <th>Type of annoucement</th>\n",
       "      <th>Number of Guests</th>\n",
       "      <th>Number of Bedrooms</th>\n",
       "      <th>Number of Beds</th>\n",
       "      <th>lieu</th>\n",
       "      <th>latitude</th>\n",
       "      <th>longitude</th>\n",
       "      <th>lnprice</th>\n",
       "    </tr>\n",
       "  </thead>\n",
       "  <tbody>\n",
       "    <tr>\n",
       "      <th>0</th>\n",
       "      <td>95 m2 Appartement 5étage , 3 chambres, Wi-fi, ...</td>\n",
       "      <td>Appartement</td>\n",
       "      <td>1</td>\n",
       "      <td>122.0</td>\n",
       "      <td>1592.0</td>\n",
       "      <td>4.5</td>\n",
       "      <td>51.0</td>\n",
       "      <td>Particulier</td>\n",
       "      <td>7.0</td>\n",
       "      <td>3.0</td>\n",
       "      <td>7.0</td>\n",
       "      <td>Koksijde-Bad</td>\n",
       "      <td>51.118739</td>\n",
       "      <td>2.634960</td>\n",
       "      <td>4.804021</td>\n",
       "    </tr>\n",
       "    <tr>\n",
       "      <th>1</th>\n",
       "      <td>Chalet confortable logé en forêt près de Durbuy</td>\n",
       "      <td>Chalet</td>\n",
       "      <td>1</td>\n",
       "      <td>114.0</td>\n",
       "      <td>1477.0</td>\n",
       "      <td>4.7</td>\n",
       "      <td>59.0</td>\n",
       "      <td>Particulier</td>\n",
       "      <td>5.0</td>\n",
       "      <td>2.0</td>\n",
       "      <td>4.0</td>\n",
       "      <td>Barvaux</td>\n",
       "      <td>50.350609</td>\n",
       "      <td>5.493284</td>\n",
       "      <td>4.736198</td>\n",
       "    </tr>\n",
       "    <tr>\n",
       "      <th>2</th>\n",
       "      <td>Bel appartement pour 2 personnes avec WIFI, TV...</td>\n",
       "      <td>Appartement</td>\n",
       "      <td>0</td>\n",
       "      <td>77.0</td>\n",
       "      <td>1005.0</td>\n",
       "      <td>5.0</td>\n",
       "      <td>1.0</td>\n",
       "      <td>Annonce professionnelle</td>\n",
       "      <td>2.0</td>\n",
       "      <td>1.0</td>\n",
       "      <td>0.0</td>\n",
       "      <td>Bredene</td>\n",
       "      <td>51.238941</td>\n",
       "      <td>2.972449</td>\n",
       "      <td>4.343805</td>\n",
       "    </tr>\n",
       "    <tr>\n",
       "      <th>3</th>\n",
       "      <td>Magnifique appartement vue sur mer</td>\n",
       "      <td>Appartement</td>\n",
       "      <td>0</td>\n",
       "      <td>175.0</td>\n",
       "      <td>2274.0</td>\n",
       "      <td>0.0</td>\n",
       "      <td>0.0</td>\n",
       "      <td>Particulier</td>\n",
       "      <td>5.0</td>\n",
       "      <td>2.0</td>\n",
       "      <td>4.0</td>\n",
       "      <td>Albertstrand</td>\n",
       "      <td>51.346426</td>\n",
       "      <td>3.275348</td>\n",
       "      <td>5.164786</td>\n",
       "    </tr>\n",
       "    <tr>\n",
       "      <th>4</th>\n",
       "      <td>Près du Parlement Européen - Appartement rénov...</td>\n",
       "      <td>Appartement</td>\n",
       "      <td>1</td>\n",
       "      <td>100.0</td>\n",
       "      <td>1298.0</td>\n",
       "      <td>4.7</td>\n",
       "      <td>94.0</td>\n",
       "      <td>Particulier</td>\n",
       "      <td>5.0</td>\n",
       "      <td>2.0</td>\n",
       "      <td>3.0</td>\n",
       "      <td>European Quarter</td>\n",
       "      <td>50.842350</td>\n",
       "      <td>4.383945</td>\n",
       "      <td>4.605170</td>\n",
       "    </tr>\n",
       "  </tbody>\n",
       "</table>\n",
       "</div>"
      ],
      "text/plain": [
       "                                                Name         Type  \\\n",
       "0  95 m2 Appartement 5étage , 3 chambres, Wi-fi, ...  Appartement   \n",
       "1    Chalet confortable logé en forêt près de Durbuy       Chalet   \n",
       "2  Bel appartement pour 2 personnes avec WIFI, TV...  Appartement   \n",
       "3                 Magnifique appartement vue sur mer  Appartement   \n",
       "4  Près du Parlement Européen - Appartement rénov...  Appartement   \n",
       "\n",
       "   hote premium  Price per Night  Total Price  Rating  Appreciations  \\\n",
       "0             1            122.0       1592.0     4.5           51.0   \n",
       "1             1            114.0       1477.0     4.7           59.0   \n",
       "2             0             77.0       1005.0     5.0            1.0   \n",
       "3             0            175.0       2274.0     0.0            0.0   \n",
       "4             1            100.0       1298.0     4.7           94.0   \n",
       "\n",
       "       Type of annoucement  Number of Guests  Number of Bedrooms  \\\n",
       "0              Particulier               7.0                 3.0   \n",
       "1              Particulier               5.0                 2.0   \n",
       "2  Annonce professionnelle               2.0                 1.0   \n",
       "3              Particulier               5.0                 2.0   \n",
       "4              Particulier               5.0                 2.0   \n",
       "\n",
       "   Number of Beds              lieu   latitude  longitude   lnprice  \n",
       "0             7.0      Koksijde-Bad  51.118739   2.634960  4.804021  \n",
       "1             4.0           Barvaux  50.350609   5.493284  4.736198  \n",
       "2             0.0           Bredene  51.238941   2.972449  4.343805  \n",
       "3             4.0      Albertstrand  51.346426   3.275348  5.164786  \n",
       "4             3.0  European Quarter  50.842350   4.383945  4.605170  "
      ]
     },
     "execution_count": 53,
     "metadata": {},
     "output_type": "execute_result"
    }
   ],
   "source": [
    "df['lnprice']=np.log(df['Price per Night'])\n",
    "#df=df.rename(columns={'Number of Guests':'nb_guests'})\n",
    "df.head()"
   ]
  },
  {
   "cell_type": "markdown",
   "id": "7e421164",
   "metadata": {},
   "source": [
    "Faudrait prendre le rating qu'on a clean dans la partie visualisation je crois. Ou au moins supprimé le zéro"
   ]
  },
  {
   "cell_type": "code",
   "execution_count": 54,
   "id": "5528ad90",
   "metadata": {},
   "outputs": [],
   "source": [
    "sorted_df = df.copy()\n",
    "sorted_df = df.sort_values('Rating', ascending=True)\n",
    "sorted_df = sorted_df[sorted_df['Rating'] != 0]\n",
    "sorted_df = sorted_df.rename(columns={'Number of Guests': 'nb_guests'})\n",
    "sorted_df = sorted_df.rename(columns={'hote premium': 'premium'})"
   ]
  },
  {
   "cell_type": "code",
   "execution_count": 55,
   "id": "0395c01e",
   "metadata": {},
   "outputs": [
    {
     "data": {
      "text/html": [
       "<table class=\"simpletable\">\n",
       "<caption>OLS Regression Results</caption>\n",
       "<tr>\n",
       "  <th>Dep. Variable:</th>         <td>lnprice</td>     <th>  R-squared:         </th> <td>   0.358</td>\n",
       "</tr>\n",
       "<tr>\n",
       "  <th>Model:</th>                   <td>OLS</td>       <th>  Adj. R-squared:    </th> <td>   0.351</td>\n",
       "</tr>\n",
       "<tr>\n",
       "  <th>Method:</th>             <td>Least Squares</td>  <th>  F-statistic:       </th> <td>   51.34</td>\n",
       "</tr>\n",
       "<tr>\n",
       "  <th>Date:</th>             <td>Fri, 05 May 2023</td> <th>  Prob (F-statistic):</th> <td>2.13e-26</td>\n",
       "</tr>\n",
       "<tr>\n",
       "  <th>Time:</th>                 <td>17:24:48</td>     <th>  Log-Likelihood:    </th> <td> -172.08</td>\n",
       "</tr>\n",
       "<tr>\n",
       "  <th>No. Observations:</th>      <td>   280</td>      <th>  AIC:               </th> <td>   352.2</td>\n",
       "</tr>\n",
       "<tr>\n",
       "  <th>Df Residuals:</th>          <td>   276</td>      <th>  BIC:               </th> <td>   366.7</td>\n",
       "</tr>\n",
       "<tr>\n",
       "  <th>Df Model:</th>              <td>     3</td>      <th>                     </th>     <td> </td>   \n",
       "</tr>\n",
       "<tr>\n",
       "  <th>Covariance Type:</th>      <td>nonrobust</td>    <th>                     </th>     <td> </td>   \n",
       "</tr>\n",
       "</table>\n",
       "<table class=\"simpletable\">\n",
       "<tr>\n",
       "      <td></td>         <th>coef</th>     <th>std err</th>      <th>t</th>      <th>P>|t|</th>  <th>[0.025</th>    <th>0.975]</th>  \n",
       "</tr>\n",
       "<tr>\n",
       "  <th>Intercept</th> <td>    3.9618</td> <td>    0.189</td> <td>   21.007</td> <td> 0.000</td> <td>    3.591</td> <td>    4.333</td>\n",
       "</tr>\n",
       "<tr>\n",
       "  <th>Rating</th>    <td>    0.1291</td> <td>    0.042</td> <td>    3.100</td> <td> 0.002</td> <td>    0.047</td> <td>    0.211</td>\n",
       "</tr>\n",
       "<tr>\n",
       "  <th>nb_guests</th> <td>    0.0811</td> <td>    0.007</td> <td>   11.406</td> <td> 0.000</td> <td>    0.067</td> <td>    0.095</td>\n",
       "</tr>\n",
       "<tr>\n",
       "  <th>premium</th>   <td>   -0.1440</td> <td>    0.054</td> <td>   -2.659</td> <td> 0.008</td> <td>   -0.251</td> <td>   -0.037</td>\n",
       "</tr>\n",
       "</table>\n",
       "<table class=\"simpletable\">\n",
       "<tr>\n",
       "  <th>Omnibus:</th>       <td>15.184</td> <th>  Durbin-Watson:     </th> <td>   2.114</td>\n",
       "</tr>\n",
       "<tr>\n",
       "  <th>Prob(Omnibus):</th> <td> 0.001</td> <th>  Jarque-Bera (JB):  </th> <td>  19.222</td>\n",
       "</tr>\n",
       "<tr>\n",
       "  <th>Skew:</th>          <td> 0.436</td> <th>  Prob(JB):          </th> <td>6.70e-05</td>\n",
       "</tr>\n",
       "<tr>\n",
       "  <th>Kurtosis:</th>      <td> 3.941</td> <th>  Cond. No.          </th> <td>    59.4</td>\n",
       "</tr>\n",
       "</table><br/><br/>Notes:<br/>[1] Standard Errors assume that the covariance matrix of the errors is correctly specified."
      ],
      "text/plain": [
       "<class 'statsmodels.iolib.summary.Summary'>\n",
       "\"\"\"\n",
       "                            OLS Regression Results                            \n",
       "==============================================================================\n",
       "Dep. Variable:                lnprice   R-squared:                       0.358\n",
       "Model:                            OLS   Adj. R-squared:                  0.351\n",
       "Method:                 Least Squares   F-statistic:                     51.34\n",
       "Date:                Fri, 05 May 2023   Prob (F-statistic):           2.13e-26\n",
       "Time:                        17:24:48   Log-Likelihood:                -172.08\n",
       "No. Observations:                 280   AIC:                             352.2\n",
       "Df Residuals:                     276   BIC:                             366.7\n",
       "Df Model:                           3                                         \n",
       "Covariance Type:            nonrobust                                         \n",
       "==============================================================================\n",
       "                 coef    std err          t      P>|t|      [0.025      0.975]\n",
       "------------------------------------------------------------------------------\n",
       "Intercept      3.9618      0.189     21.007      0.000       3.591       4.333\n",
       "Rating         0.1291      0.042      3.100      0.002       0.047       0.211\n",
       "nb_guests      0.0811      0.007     11.406      0.000       0.067       0.095\n",
       "premium       -0.1440      0.054     -2.659      0.008      -0.251      -0.037\n",
       "==============================================================================\n",
       "Omnibus:                       15.184   Durbin-Watson:                   2.114\n",
       "Prob(Omnibus):                  0.001   Jarque-Bera (JB):               19.222\n",
       "Skew:                           0.436   Prob(JB):                     6.70e-05\n",
       "Kurtosis:                       3.941   Cond. No.                         59.4\n",
       "==============================================================================\n",
       "\n",
       "Notes:\n",
       "[1] Standard Errors assume that the covariance matrix of the errors is correctly specified.\n",
       "\"\"\""
      ]
     },
     "execution_count": 55,
     "metadata": {},
     "output_type": "execute_result"
    }
   ],
   "source": [
    "reg = smf.ols(formula='lnprice~Rating+nb_guests+premium', data=sorted_df).fit()\n",
    "reg.summary()"
   ]
  },
  {
   "cell_type": "markdown",
   "id": "a265538d",
   "metadata": {},
   "source": [
    "Observations: R squared not very high. As a reminder,  R² is defined as the proportion of the total variance of Y that is explained by the linear regression model. It varies from 0 to 1, where 0 means that the model does not explain the variance of Y at all and 1 means that the model explains the variance of Y perfectly.\n",
    "\n",
    "Lorsqu'une régression OLS est effectuée et que les p-values associées à chaque coefficient du modèle sont significatives, cela signifie que ces coefficients ont un effet statistiquement significatif sur la variable dépendante. (!! reformuler)régression OLS avec Y étant le prix et les variables indépendantes étant le rating et le nombre d'invités, et que les p-values associées à chaque coefficient sont significatives, cela signifie que le rating et le nombre d'invités ont un effet statistiquement significatif sur le prix. En d'autres termes, cela suggère qu'il existe une relation linéaire significative entre le prix, le rating et le nombre d'invités et le fait que l'hote soit premium ou pas."
   ]
  },
  {
   "cell_type": "markdown",
   "id": "3de9e109",
   "metadata": {},
   "source": [
    "faire lien avec graphique fait dans visusalisation (entre prix et rating)"
   ]
  },
  {
   "cell_type": "code",
   "execution_count": 56,
   "id": "ea47f1e4",
   "metadata": {},
   "outputs": [
    {
     "data": {
      "text/plain": [
       "<AxesSubplot: xlabel='Rating', ylabel='lnprice'>"
      ]
     },
     "execution_count": 56,
     "metadata": {},
     "output_type": "execute_result"
    },
    {
     "data": {
      "image/png": "[encoded data removed]",
      "text/plain": [
       "<Figure size 640x480 with 1 Axes>"
      ]
     },
     "metadata": {},
     "output_type": "display_data"
    }
   ],
   "source": [
    "sns.regplot(y='lnprice', x='Rating', data=sorted_df)"
   ]
  },
  {
   "cell_type": "markdown",
   "id": "854c629f",
   "metadata": {},
   "source": [
    "Idk if we leave this graph or not, just to show that for example with rating and lnprice there's a positive relationship. But already made in visualisation so make the link with this part"
   ]
  },
  {
   "cell_type": "markdown",
   "id": "90340f25",
   "metadata": {},
   "source": [
    "# Supervised Machine Learning"
   ]
  },
  {
   "cell_type": "code",
   "execution_count": 57,
   "id": "08a20d0a",
   "metadata": {},
   "outputs": [],
   "source": [
    "y=df['lnprice']\n",
    "#est ce que c'est mieux de prendre le ln?\n",
    "features=df.drop(columns=['lnprice','Price per Night', 'Total Price'])#input"
   ]
  },
  {
   "cell_type": "markdown",
   "id": "8601d64b",
   "metadata": {},
   "source": [
    "## 1. Prepare the data for ML algorithms"
   ]
  },
  {
   "cell_type": "code",
   "execution_count": 58,
   "id": "4f28b536",
   "metadata": {},
   "outputs": [],
   "source": [
    "cat_col = [col for col in features if df[col].dtype == 'object']\n",
    "dum_col = [col for col in features if df[col].dtype == 'int64']\n",
    "num_col = [col for col in features if df[col].dtype == 'float64']"
   ]
  },
  {
   "cell_type": "code",
   "execution_count": 59,
   "id": "9e7440ee",
   "metadata": {},
   "outputs": [],
   "source": [
    "x=features[num_col]"
   ]
  },
  {
   "cell_type": "markdown",
   "id": "defca49e",
   "metadata": {},
   "source": [
    "## 2. Split train test sets"
   ]
  },
  {
   "cell_type": "code",
   "execution_count": 61,
   "id": "41a1fe61",
   "metadata": {},
   "outputs": [
    {
     "name": "stdout",
     "output_type": "stream",
     "text": [
      "train data (338, 7) (338,)\n",
      "test data (85, 7) (85,)\n"
     ]
    }
   ],
   "source": [
    "from sklearn.model_selection import train_test_split\n",
    "X_train, X_test, y_train, y_test = train_test_split(x, y,test_size=0.2, random_state=1)\n",
    "print(\"train data\", X_train.shape, y_train.shape)\n",
    "print(\"test data\", X_test.shape,  y_test.shape)"
   ]
  },
  {
   "cell_type": "code",
   "execution_count": 62,
   "id": "48fc4d87",
   "metadata": {},
   "outputs": [],
   "source": [
    "numeric_columns=list(X_train.select_dtypes('float64').columns)\n",
    "categorical_columns=list(X_train.select_dtypes('int64').columns)"
   ]
  },
  {
   "cell_type": "code",
   "execution_count": 63,
   "id": "9e1d517e",
   "metadata": {},
   "outputs": [],
   "source": [
    "from sklearn.compose import ColumnTransformer\n",
    "from sklearn.preprocessing import StandardScaler,OneHotEncoder\n",
    "\n",
    "\n",
    "pipeline=ColumnTransformer([\n",
    "    ('num',StandardScaler(),numeric_columns),\n",
    "    ('cat', OneHotEncoder() ,categorical_columns),\n",
    "])\n",
    "#for numerical columns --> standardscaler; for categorical columns --> OneHotEncoder\n",
    "\n",
    "X_train_scaled=pipeline.fit_transform(X_train)\n",
    "X_test_scaled=pipeline.fit_transform(X_test)"
   ]
  },
  {
   "cell_type": "markdown",
   "id": "7144061e",
   "metadata": {},
   "source": [
    "## 3. Select and train a model"
   ]
  },
  {
   "cell_type": "code",
   "execution_count": 64,
   "id": "24abd1fb",
   "metadata": {
    "scrolled": true
   },
   "outputs": [
    {
     "data": {
      "text/html": [
       "<style>#sk-container-id-2 {color: black;background-color: white;}#sk-container-id-2 pre{padding: 0;}#sk-container-id-2 div.sk-toggleable {background-color: white;}#sk-container-id-2 label.sk-toggleable__label {cursor: pointer;display: block;width: 100%;margin-bottom: 0;padding: 0.3em;box-sizing: border-box;text-align: center;}#sk-container-id-2 label.sk-toggleable__label-arrow:before {content: \"▸\";float: left;margin-right: 0.25em;color: #696969;}#sk-container-id-2 label.sk-toggleable__label-arrow:hover:before {color: black;}#sk-container-id-2 div.sk-estimator:hover label.sk-toggleable__label-arrow:before {color: black;}#sk-container-id-2 div.sk-toggleable__content {max-height: 0;max-width: 0;overflow: hidden;text-align: left;background-color: #f0f8ff;}#sk-container-id-2 div.sk-toggleable__content pre {margin: 0.2em;color: black;border-radius: 0.25em;background-color: #f0f8ff;}#sk-container-id-2 input.sk-toggleable__control:checked~div.sk-toggleable__content {max-height: 200px;max-width: 100%;overflow: auto;}#sk-container-id-2 input.sk-toggleable__control:checked~label.sk-toggleable__label-arrow:before {content: \"▾\";}#sk-container-id-2 div.sk-estimator input.sk-toggleable__control:checked~label.sk-toggleable__label {background-color: #d4ebff;}#sk-container-id-2 div.sk-label input.sk-toggleable__control:checked~label.sk-toggleable__label {background-color: #d4ebff;}#sk-container-id-2 input.sk-hidden--visually {border: 0;clip: rect(1px 1px 1px 1px);clip: rect(1px, 1px, 1px, 1px);height: 1px;margin: -1px;overflow: hidden;padding: 0;position: absolute;width: 1px;}#sk-container-id-2 div.sk-estimator {font-family: monospace;background-color: #f0f8ff;border: 1px dotted black;border-radius: 0.25em;box-sizing: border-box;margin-bottom: 0.5em;}#sk-container-id-2 div.sk-estimator:hover {background-color: #d4ebff;}#sk-container-id-2 div.sk-parallel-item::after {content: \"\";width: 100%;border-bottom: 1px solid gray;flex-grow: 1;}#sk-container-id-2 div.sk-label:hover label.sk-toggleable__label {background-color: #d4ebff;}#sk-container-id-2 div.sk-serial::before {content: \"\";position: absolute;border-left: 1px solid gray;box-sizing: border-box;top: 0;bottom: 0;left: 50%;z-index: 0;}#sk-container-id-2 div.sk-serial {display: flex;flex-direction: column;align-items: center;background-color: white;padding-right: 0.2em;padding-left: 0.2em;position: relative;}#sk-container-id-2 div.sk-item {position: relative;z-index: 1;}#sk-container-id-2 div.sk-parallel {display: flex;align-items: stretch;justify-content: center;background-color: white;position: relative;}#sk-container-id-2 div.sk-item::before, #sk-container-id-2 div.sk-parallel-item::before {content: \"\";position: absolute;border-left: 1px solid gray;box-sizing: border-box;top: 0;bottom: 0;left: 50%;z-index: -1;}#sk-container-id-2 div.sk-parallel-item {display: flex;flex-direction: column;z-index: 1;position: relative;background-color: white;}#sk-container-id-2 div.sk-parallel-item:first-child::after {align-self: flex-end;width: 50%;}#sk-container-id-2 div.sk-parallel-item:last-child::after {align-self: flex-start;width: 50%;}#sk-container-id-2 div.sk-parallel-item:only-child::after {width: 0;}#sk-container-id-2 div.sk-dashed-wrapped {border: 1px dashed gray;margin: 0 0.4em 0.5em 0.4em;box-sizing: border-box;padding-bottom: 0.4em;background-color: white;}#sk-container-id-2 div.sk-label label {font-family: monospace;font-weight: bold;display: inline-block;line-height: 1.2em;}#sk-container-id-2 div.sk-label-container {text-align: center;}#sk-container-id-2 div.sk-container {/* jupyter's `normalize.less` sets `[hidden] { display: none; }` but bootstrap.min.css set `[hidden] { display: none !important; }` so we also need the `!important` here to be able to override the default hidden behavior on the sphinx rendered scikit-learn.org. See: https://github.com/scikit-learn/scikit-learn/issues/21755 */display: inline-block !important;position: relative;}#sk-container-id-2 div.sk-text-repr-fallback {display: none;}</style><div id=\"sk-container-id-2\" class=\"sk-top-container\"><div class=\"sk-text-repr-fallback\"><pre>LinearRegression()</pre><b>In a Jupyter environment, please rerun this cell to show the HTML representation or trust the notebook. <br />On GitHub, the HTML representation is unable to render, please try loading this page with nbviewer.org.</b></div><div class=\"sk-container\" hidden><div class=\"sk-item\"><div class=\"sk-estimator sk-toggleable\"><input class=\"sk-toggleable__control sk-hidden--visually\" id=\"sk-estimator-id-2\" type=\"checkbox\" checked><label for=\"sk-estimator-id-2\" class=\"sk-toggleable__label sk-toggleable__label-arrow\">LinearRegression</label><div class=\"sk-toggleable__content\"><pre>LinearRegression()</pre></div></div></div></div></div>"
      ],
      "text/plain": [
       "LinearRegression()"
      ]
     },
     "execution_count": 64,
     "metadata": {},
     "output_type": "execute_result"
    }
   ],
   "source": [
    "from sklearn.linear_model import LinearRegression\n",
    "lin_reg = LinearRegression()\n",
    "lin_reg"
   ]
  },
  {
   "cell_type": "code",
   "execution_count": 65,
   "id": "0409de19",
   "metadata": {},
   "outputs": [
    {
     "data": {
      "text/html": [
       "<style>#sk-container-id-3 {color: black;background-color: white;}#sk-container-id-3 pre{padding: 0;}#sk-container-id-3 div.sk-toggleable {background-color: white;}#sk-container-id-3 label.sk-toggleable__label {cursor: pointer;display: block;width: 100%;margin-bottom: 0;padding: 0.3em;box-sizing: border-box;text-align: center;}#sk-container-id-3 label.sk-toggleable__label-arrow:before {content: \"▸\";float: left;margin-right: 0.25em;color: #696969;}#sk-container-id-3 label.sk-toggleable__label-arrow:hover:before {color: black;}#sk-container-id-3 div.sk-estimator:hover label.sk-toggleable__label-arrow:before {color: black;}#sk-container-id-3 div.sk-toggleable__content {max-height: 0;max-width: 0;overflow: hidden;text-align: left;background-color: #f0f8ff;}#sk-container-id-3 div.sk-toggleable__content pre {margin: 0.2em;color: black;border-radius: 0.25em;background-color: #f0f8ff;}#sk-container-id-3 input.sk-toggleable__control:checked~div.sk-toggleable__content {max-height: 200px;max-width: 100%;overflow: auto;}#sk-container-id-3 input.sk-toggleable__control:checked~label.sk-toggleable__label-arrow:before {content: \"▾\";}#sk-container-id-3 div.sk-estimator input.sk-toggleable__control:checked~label.sk-toggleable__label {background-color: #d4ebff;}#sk-container-id-3 div.sk-label input.sk-toggleable__control:checked~label.sk-toggleable__label {background-color: #d4ebff;}#sk-container-id-3 input.sk-hidden--visually {border: 0;clip: rect(1px 1px 1px 1px);clip: rect(1px, 1px, 1px, 1px);height: 1px;margin: -1px;overflow: hidden;padding: 0;position: absolute;width: 1px;}#sk-container-id-3 div.sk-estimator {font-family: monospace;background-color: #f0f8ff;border: 1px dotted black;border-radius: 0.25em;box-sizing: border-box;margin-bottom: 0.5em;}#sk-container-id-3 div.sk-estimator:hover {background-color: #d4ebff;}#sk-container-id-3 div.sk-parallel-item::after {content: \"\";width: 100%;border-bottom: 1px solid gray;flex-grow: 1;}#sk-container-id-3 div.sk-label:hover label.sk-toggleable__label {background-color: #d4ebff;}#sk-container-id-3 div.sk-serial::before {content: \"\";position: absolute;border-left: 1px solid gray;box-sizing: border-box;top: 0;bottom: 0;left: 50%;z-index: 0;}#sk-container-id-3 div.sk-serial {display: flex;flex-direction: column;align-items: center;background-color: white;padding-right: 0.2em;padding-left: 0.2em;position: relative;}#sk-container-id-3 div.sk-item {position: relative;z-index: 1;}#sk-container-id-3 div.sk-parallel {display: flex;align-items: stretch;justify-content: center;background-color: white;position: relative;}#sk-container-id-3 div.sk-item::before, #sk-container-id-3 div.sk-parallel-item::before {content: \"\";position: absolute;border-left: 1px solid gray;box-sizing: border-box;top: 0;bottom: 0;left: 50%;z-index: -1;}#sk-container-id-3 div.sk-parallel-item {display: flex;flex-direction: column;z-index: 1;position: relative;background-color: white;}#sk-container-id-3 div.sk-parallel-item:first-child::after {align-self: flex-end;width: 50%;}#sk-container-id-3 div.sk-parallel-item:last-child::after {align-self: flex-start;width: 50%;}#sk-container-id-3 div.sk-parallel-item:only-child::after {width: 0;}#sk-container-id-3 div.sk-dashed-wrapped {border: 1px dashed gray;margin: 0 0.4em 0.5em 0.4em;box-sizing: border-box;padding-bottom: 0.4em;background-color: white;}#sk-container-id-3 div.sk-label label {font-family: monospace;font-weight: bold;display: inline-block;line-height: 1.2em;}#sk-container-id-3 div.sk-label-container {text-align: center;}#sk-container-id-3 div.sk-container {/* jupyter's `normalize.less` sets `[hidden] { display: none; }` but bootstrap.min.css set `[hidden] { display: none !important; }` so we also need the `!important` here to be able to override the default hidden behavior on the sphinx rendered scikit-learn.org. See: https://github.com/scikit-learn/scikit-learn/issues/21755 */display: inline-block !important;position: relative;}#sk-container-id-3 div.sk-text-repr-fallback {display: none;}</style><div id=\"sk-container-id-3\" class=\"sk-top-container\"><div class=\"sk-text-repr-fallback\"><pre>LinearRegression()</pre><b>In a Jupyter environment, please rerun this cell to show the HTML representation or trust the notebook. <br />On GitHub, the HTML representation is unable to render, please try loading this page with nbviewer.org.</b></div><div class=\"sk-container\" hidden><div class=\"sk-item\"><div class=\"sk-estimator sk-toggleable\"><input class=\"sk-toggleable__control sk-hidden--visually\" id=\"sk-estimator-id-3\" type=\"checkbox\" checked><label for=\"sk-estimator-id-3\" class=\"sk-toggleable__label sk-toggleable__label-arrow\">LinearRegression</label><div class=\"sk-toggleable__content\"><pre>LinearRegression()</pre></div></div></div></div></div>"
      ],
      "text/plain": [
       "LinearRegression()"
      ]
     },
     "execution_count": 65,
     "metadata": {},
     "output_type": "execute_result"
    }
   ],
   "source": [
    "X_train_num=X_train[numeric_columns]\n",
    "lin_reg.fit(X_train_num, y_train)"
   ]
  },
  {
   "cell_type": "code",
   "execution_count": 66,
   "id": "efab6ad3",
   "metadata": {},
   "outputs": [
    {
     "name": "stdout",
     "output_type": "stream",
     "text": [
      "R-squared for training dataset:0.3\n"
     ]
    }
   ],
   "source": [
    "print(\"R-squared for training dataset:{}\".\n",
    "      format(np.round(lin_reg.score(X_train_num, y_train), 2)))"
   ]
  },
  {
   "cell_type": "code",
   "execution_count": 67,
   "id": "0fce256b",
   "metadata": {
    "scrolled": true
   },
   "outputs": [
    {
     "name": "stdout",
     "output_type": "stream",
     "text": [
      "R-squared for training dataset & scaled features:0.3\n"
     ]
    }
   ],
   "source": [
    "lin_reg.fit(X_train_scaled, y_train)\n",
    "print(\"R-squared for training dataset & scaled features:{}\".\n",
    "      format(np.round(lin_reg.score(X_train_scaled, y_train), 2)))"
   ]
  },
  {
   "cell_type": "markdown",
   "id": "79448637",
   "metadata": {},
   "source": [
    "**The R-squared is really low: what can we do abt it?**"
   ]
  },
  {
   "cell_type": "code",
   "execution_count": 68,
   "id": "d62b2868",
   "metadata": {},
   "outputs": [
    {
     "data": {
      "text/plain": [
       "array([ 0.00512534, -0.10119463,  0.03861193,  0.22124972,  0.05453361,\n",
       "        0.0359317 , -0.01784811])"
      ]
     },
     "execution_count": 68,
     "metadata": {},
     "output_type": "execute_result"
    }
   ],
   "source": [
    "lin_reg.coef_"
   ]
  },
  {
   "cell_type": "code",
   "execution_count": 69,
   "id": "45321587",
   "metadata": {},
   "outputs": [
    {
     "name": "stdout",
     "output_type": "stream",
     "text": [
      "The coefficients of the features from the linear model:\n",
      "{'Rating': 0.01, 'Appreciations': -0.1, 'Number of Guests': 0.04, 'Number of Bedrooms': 0.22, 'Number of Beds': 0.05, 'latitude': 0.04, 'longitude': -0.02}\n"
     ]
    }
   ],
   "source": [
    "print('The coefficients of the features from the linear model:')\n",
    "print(dict(zip(num_col+dum_col, [round(x, 2) for x in lin_reg.coef_])))"
   ]
  },
  {
   "cell_type": "markdown",
   "id": "2a78be9b",
   "metadata": {},
   "source": [
    "## 5. Metrics/ Error measures"
   ]
  },
  {
   "cell_type": "code",
   "execution_count": 70,
   "id": "5c253a94",
   "metadata": {},
   "outputs": [],
   "source": [
    "lin_reg = LinearRegression()\n",
    "lin_reg.fit(X_train_scaled, y_train)\n",
    "y_train_pred = lin_reg.predict(X_train_scaled)"
   ]
  },
  {
   "cell_type": "code",
   "execution_count": 71,
   "id": "6cb40764",
   "metadata": {},
   "outputs": [
    {
     "name": "stdout",
     "output_type": "stream",
     "text": [
      "RMSE: 0.45658088590435497\n"
     ]
    }
   ],
   "source": [
    "from sklearn.metrics import mean_squared_error\n",
    "\n",
    "train_mse = mean_squared_error(y_train, y_train_pred)\n",
    "train_rmse = np.sqrt(train_mse)\n",
    "print(\"RMSE: %s\" % train_rmse) # = np.sqrt(np.mean((predicted - expected) ** 2)) "
   ]
  },
  {
   "cell_type": "code",
   "execution_count": 72,
   "id": "27ef8e36",
   "metadata": {},
   "outputs": [
    {
     "name": "stdout",
     "output_type": "stream",
     "text": [
      "RMS: 0.41392706552408975\n"
     ]
    }
   ],
   "source": [
    "#1. Out-of-sample performance = test RMSE\n",
    "y_test_pred = lin_reg.predict(X_test_scaled)    \n",
    "test_mse = mean_squared_error(y_test, y_test_pred)\n",
    "test_rmse = np.sqrt(test_mse)\n",
    "print(\"RMS: %s\" % test_rmse) "
   ]
  },
  {
   "cell_type": "code",
   "execution_count": 73,
   "id": "eefdb5f0",
   "metadata": {},
   "outputs": [
    {
     "data": {
      "image/png": "[encoded data removed]",
      "text/plain": [
       "<Figure size 640x480 with 1 Axes>"
      ]
     },
     "metadata": {},
     "output_type": "display_data"
    }
   ],
   "source": [
    "import seaborn as sns\n",
    "\n",
    "g=sns.regplot(x= y_test_pred, y=y_test, x_bins=100)\n",
    "g=g.set_title(\"Test sample\")\n",
    "\n",
    "plt.xlabel(\"Predicted log prices: $\\hat{Y}_i$\")\n",
    "plt.ylabel(\"Log prices: $Y_i$\")\n",
    "plt.annotate('Notes: 100 binned',\n",
    "            xy=(0, 0),  xycoords='figure fraction',\n",
    "            horizontalalignment='left',\n",
    "            verticalalignment='bottom')\n",
    "plt.axis('tight')\n",
    "plt.tight_layout()\n",
    "plt.show(g)"
   ]
  },
  {
   "cell_type": "code",
   "execution_count": 74,
   "id": "53d24fae",
   "metadata": {},
   "outputs": [
    {
     "data": {
      "image/png": "[encoded data removed]",
      "text/plain": [
       "<Figure size 1200x400 with 2 Axes>"
      ]
     },
     "metadata": {},
     "output_type": "display_data"
    }
   ],
   "source": [
    "#Let us plot how good given and predicted values match on the training data set (sic !).\n",
    "def plot_fit_quality(values_test, predicted):\n",
    "    \n",
    "    plt.figure(figsize=(12, 4))\n",
    "    plt.subplot(1, 2, 1)\n",
    "\n",
    "    x = np.arange(len(predicted))\n",
    "    plt.scatter(x, predicted - values_test, color='steelblue', marker='o') \n",
    "\n",
    "    plt.plot([0, len(predicted)], [0, 0], \"k:\")\n",
    "    \n",
    "    max_diff = np.max(np.abs(predicted - values_test))\n",
    "    plt.ylim([-max_diff, max_diff])\n",
    "    \n",
    "    plt.ylabel(\"error\")\n",
    "    plt.xlabel(\"sample id\")\n",
    "\n",
    "    plt.subplot(1, 2, 2)\n",
    "\n",
    "    plt.scatter(x, (predicted - values_test) / values_test, color='steelblue', marker='o') \n",
    "    plt.plot([0, len(predicted)], [0, 0], \"k:\")\n",
    "    plt.ylim([-.5, .5])\n",
    "      \n",
    "    plt.ylabel(\"relative error\")\n",
    "    plt.xlabel(\"sample id\")\n",
    "\n",
    "plot_fit_quality(y_test, y_test_pred)"
   ]
  }
 ],
 "metadata": {
  "kernelspec": {
   "display_name": "Python 3 (ipykernel)",
   "language": "python",
   "name": "python3"
  },
  "language_info": {
   "codemirror_mode": {
    "name": "ipython",
    "version": 3
   },
   "file_extension": ".py",
   "mimetype": "text/x-python",
   "name": "python",
   "nbconvert_exporter": "python",
   "pygments_lexer": "ipython3",
   "version": "3.9.16"
  }
 },
 "nbformat": 4,
 "nbformat_minor": 5
}

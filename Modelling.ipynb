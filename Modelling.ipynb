{
 "cells": [
  {
   "cell_type": "markdown",
   "id": "bfed520f",
   "metadata": {},
   "source": [
    "# Modelling "
   ]
  },
  {
   "cell_type": "code",
   "execution_count": 120,
   "id": "743a2834",
   "metadata": {},
   "outputs": [],
   "source": [
    "import matplotlib.pyplot as plt\n",
    "import numpy as np\n",
    "import pandas as pd"
   ]
  },
  {
   "cell_type": "markdown",
   "id": "94bd895c",
   "metadata": {},
   "source": [
    "**Theory Reminder**\n",
    "- Unsupervised learning: estimating functions withouut the aid of outcome variable y. We only observe X and want to learn sth about its structure\n",
    " - Supervised machine learning: estimating function with known observations and outcome data (guess the values of y from the X variables). Useful for observations for which y is unknown and X is known ??\n",
    " - Supervised machine learning and/or econometrics: build a predictive model for a variable of interest, using explanatory variables (or features)\n",
    "     - Econometrics: probabilisic models designed to describe economic phenomena\n",
    "    - Machine Learning: algorithms search through a set of possible prediction models that capture the best relationship"
   ]
  },
  {
   "cell_type": "markdown",
   "id": "bd8a0c4b",
   "metadata": {},
   "source": [
    "**Supervised ML**\n",
    "- typical supervised ML procedure:\n",
    "    1. Labeled data: decompose the observations in test/training set and pre-processing of the input variables\n",
    "    2. Learning: on a restricted sample: the training set; use an alogorithm to \"learn\" the association pattern between the input variables and the label\n",
    "    3. Assessing how the model fits the data (and choosing the best model): test the validity of the model on a test set (sample of the labeled data that had been held out); fit measured using the mean squarred error\"\n",
    "    4. Training the best model on the full data\n",
    "    5. Using the trained model for prediction tasks\n",
    "  "
   ]
  },
  {
   "cell_type": "markdown",
   "id": "ae4b23ff",
   "metadata": {},
   "source": [
    "# Loading the data"
   ]
  },
  {
   "cell_type": "code",
   "execution_count": 133,
   "id": "7a997609",
   "metadata": {
    "scrolled": true
   },
   "outputs": [
    {
     "data": {
      "text/html": [
       "<div>\n",
       "<style scoped>\n",
       "    .dataframe tbody tr th:only-of-type {\n",
       "        vertical-align: middle;\n",
       "    }\n",
       "\n",
       "    .dataframe tbody tr th {\n",
       "        vertical-align: top;\n",
       "    }\n",
       "\n",
       "    .dataframe thead th {\n",
       "        text-align: right;\n",
       "    }\n",
       "</style>\n",
       "<table border=\"1\" class=\"dataframe\">\n",
       "  <thead>\n",
       "    <tr style=\"text-align: right;\">\n",
       "      <th></th>\n",
       "      <th>Name</th>\n",
       "      <th>Type</th>\n",
       "      <th>hote premium</th>\n",
       "      <th>Price per Night</th>\n",
       "      <th>Total Price</th>\n",
       "      <th>Rating</th>\n",
       "      <th>Appreciations</th>\n",
       "      <th>Type of annoucement</th>\n",
       "      <th>Number of Guests</th>\n",
       "      <th>Number of Bedrooms</th>\n",
       "      <th>Number of Beds</th>\n",
       "    </tr>\n",
       "  </thead>\n",
       "  <tbody>\n",
       "    <tr>\n",
       "      <th>0</th>\n",
       "      <td>95 m2 Appartement 5étage , 3 chambres, Wi-fi, ...</td>\n",
       "      <td>Appartement</td>\n",
       "      <td>1</td>\n",
       "      <td>122.0</td>\n",
       "      <td>1592.0</td>\n",
       "      <td>4.5</td>\n",
       "      <td>51</td>\n",
       "      <td>Particulier</td>\n",
       "      <td>7</td>\n",
       "      <td>3</td>\n",
       "      <td>7</td>\n",
       "    </tr>\n",
       "    <tr>\n",
       "      <th>1</th>\n",
       "      <td>Grand jardin, moyenne montagne, à la campagne,...</td>\n",
       "      <td>Appartement</td>\n",
       "      <td>0</td>\n",
       "      <td>63.0</td>\n",
       "      <td>818.0</td>\n",
       "      <td>4.7</td>\n",
       "      <td>58</td>\n",
       "      <td>Particulier</td>\n",
       "      <td>4</td>\n",
       "      <td>1</td>\n",
       "      <td>3</td>\n",
       "    </tr>\n",
       "    <tr>\n",
       "      <th>2</th>\n",
       "      <td>Bertogne: Ardennes Belges - Gite récent en bor...</td>\n",
       "      <td>Cottage</td>\n",
       "      <td>0</td>\n",
       "      <td>74.0</td>\n",
       "      <td>957.0</td>\n",
       "      <td>4.4</td>\n",
       "      <td>81</td>\n",
       "      <td>Particulier</td>\n",
       "      <td>6</td>\n",
       "      <td>3</td>\n",
       "      <td>7</td>\n",
       "    </tr>\n",
       "    <tr>\n",
       "      <th>3</th>\n",
       "      <td>Chalet Zutendaal</td>\n",
       "      <td>Chalet</td>\n",
       "      <td>0</td>\n",
       "      <td>65.0</td>\n",
       "      <td>851.0</td>\n",
       "      <td>0.0</td>\n",
       "      <td>0</td>\n",
       "      <td>rien</td>\n",
       "      <td>4</td>\n",
       "      <td>2</td>\n",
       "      <td>0</td>\n",
       "    </tr>\n",
       "    <tr>\n",
       "      <th>4</th>\n",
       "      <td>Ferme de Filot</td>\n",
       "      <td>Ferme</td>\n",
       "      <td>1</td>\n",
       "      <td>67.0</td>\n",
       "      <td>870.0</td>\n",
       "      <td>4.6</td>\n",
       "      <td>17</td>\n",
       "      <td>Particulier</td>\n",
       "      <td>4</td>\n",
       "      <td>1</td>\n",
       "      <td>2</td>\n",
       "    </tr>\n",
       "    <tr>\n",
       "      <th>...</th>\n",
       "      <td>...</td>\n",
       "      <td>...</td>\n",
       "      <td>...</td>\n",
       "      <td>...</td>\n",
       "      <td>...</td>\n",
       "      <td>...</td>\n",
       "      <td>...</td>\n",
       "      <td>...</td>\n",
       "      <td>...</td>\n",
       "      <td>...</td>\n",
       "      <td>...</td>\n",
       "    </tr>\n",
       "    <tr>\n",
       "      <th>420</th>\n",
       "      <td>Smartflats Manneken Pis V - 1 Chambre - Centre...</td>\n",
       "      <td>Appartement</td>\n",
       "      <td>0</td>\n",
       "      <td>190.0</td>\n",
       "      <td>2465.0</td>\n",
       "      <td>3.3</td>\n",
       "      <td>3</td>\n",
       "      <td>Annonce professionnelle</td>\n",
       "      <td>2</td>\n",
       "      <td>1</td>\n",
       "      <td>1</td>\n",
       "    </tr>\n",
       "    <tr>\n",
       "      <th>421</th>\n",
       "      <td>1001 nuits avec vue Theatresquare</td>\n",
       "      <td>Maison</td>\n",
       "      <td>0</td>\n",
       "      <td>101.0</td>\n",
       "      <td>NaN</td>\n",
       "      <td>0.0</td>\n",
       "      <td>0</td>\n",
       "      <td>Annonce professionnelle</td>\n",
       "      <td>4</td>\n",
       "      <td>1</td>\n",
       "      <td>3</td>\n",
       "    </tr>\n",
       "    <tr>\n",
       "      <th>422</th>\n",
       "      <td>Bunte Stuv - Maison de vacances moderne et trè...</td>\n",
       "      <td>Maison</td>\n",
       "      <td>1</td>\n",
       "      <td>100.0</td>\n",
       "      <td>1298.0</td>\n",
       "      <td>0.0</td>\n",
       "      <td>0</td>\n",
       "      <td>rien</td>\n",
       "      <td>4</td>\n",
       "      <td>2</td>\n",
       "      <td>2</td>\n",
       "    </tr>\n",
       "    <tr>\n",
       "      <th>423</th>\n",
       "      <td>Près du Parlement Européen - Appartement rénov...</td>\n",
       "      <td>Appartement</td>\n",
       "      <td>1</td>\n",
       "      <td>216.0</td>\n",
       "      <td>2809.0</td>\n",
       "      <td>4.7</td>\n",
       "      <td>93</td>\n",
       "      <td>Particulier</td>\n",
       "      <td>5</td>\n",
       "      <td>2</td>\n",
       "      <td>3</td>\n",
       "    </tr>\n",
       "    <tr>\n",
       "      <th>424</th>\n",
       "      <td>Belle et charmante maison Perfect Location</td>\n",
       "      <td>Maison</td>\n",
       "      <td>0</td>\n",
       "      <td>NaN</td>\n",
       "      <td>NaN</td>\n",
       "      <td>3.6</td>\n",
       "      <td>7</td>\n",
       "      <td>Particulier</td>\n",
       "      <td>7</td>\n",
       "      <td>4</td>\n",
       "      <td>0</td>\n",
       "    </tr>\n",
       "  </tbody>\n",
       "</table>\n",
       "<p>425 rows × 11 columns</p>\n",
       "</div>"
      ],
      "text/plain": [
       "                                                  Name         Type  \\\n",
       "0    95 m2 Appartement 5étage , 3 chambres, Wi-fi, ...  Appartement   \n",
       "1    Grand jardin, moyenne montagne, à la campagne,...  Appartement   \n",
       "2    Bertogne: Ardennes Belges - Gite récent en bor...      Cottage   \n",
       "3                                     Chalet Zutendaal       Chalet   \n",
       "4                                       Ferme de Filot        Ferme   \n",
       "..                                                 ...          ...   \n",
       "420  Smartflats Manneken Pis V - 1 Chambre - Centre...  Appartement   \n",
       "421                  1001 nuits avec vue Theatresquare       Maison   \n",
       "422  Bunte Stuv - Maison de vacances moderne et trè...       Maison   \n",
       "423  Près du Parlement Européen - Appartement rénov...  Appartement   \n",
       "424         Belle et charmante maison Perfect Location       Maison   \n",
       "\n",
       "     hote premium  Price per Night  Total Price  Rating  Appreciations  \\\n",
       "0               1            122.0       1592.0     4.5             51   \n",
       "1               0             63.0        818.0     4.7             58   \n",
       "2               0             74.0        957.0     4.4             81   \n",
       "3               0             65.0        851.0     0.0              0   \n",
       "4               1             67.0        870.0     4.6             17   \n",
       "..            ...              ...          ...     ...            ...   \n",
       "420             0            190.0       2465.0     3.3              3   \n",
       "421             0            101.0          NaN     0.0              0   \n",
       "422             1            100.0       1298.0     0.0              0   \n",
       "423             1            216.0       2809.0     4.7             93   \n",
       "424             0              NaN          NaN     3.6              7   \n",
       "\n",
       "         Type of annoucement  Number of Guests  Number of Bedrooms  \\\n",
       "0                Particulier                 7                   3   \n",
       "1                Particulier                 4                   1   \n",
       "2                Particulier                 6                   3   \n",
       "3                       rien                 4                   2   \n",
       "4                Particulier                 4                   1   \n",
       "..                       ...               ...                 ...   \n",
       "420  Annonce professionnelle                 2                   1   \n",
       "421  Annonce professionnelle                 4                   1   \n",
       "422                     rien                 4                   2   \n",
       "423              Particulier                 5                   2   \n",
       "424              Particulier                 7                   4   \n",
       "\n",
       "     Number of Beds  \n",
       "0                 7  \n",
       "1                 3  \n",
       "2                 7  \n",
       "3                 0  \n",
       "4                 2  \n",
       "..              ...  \n",
       "420               1  \n",
       "421               3  \n",
       "422               2  \n",
       "423               3  \n",
       "424               0  \n",
       "\n",
       "[425 rows x 11 columns]"
      ]
     },
     "execution_count": 133,
     "metadata": {},
     "output_type": "execute_result"
    }
   ],
   "source": [
    "df=pd.read_excel(\"C:/Users/32498/Downloads/ECON2206-Data-Management-2023-main/GitHub/Project-data/Abriteldf.xlsx\")\n",
    "df"
   ]
  },
  {
   "cell_type": "code",
   "execution_count": 134,
   "id": "4cb7eea4",
   "metadata": {
    "scrolled": false
   },
   "outputs": [
    {
     "data": {
      "text/html": [
       "<div>\n",
       "<style scoped>\n",
       "    .dataframe tbody tr th:only-of-type {\n",
       "        vertical-align: middle;\n",
       "    }\n",
       "\n",
       "    .dataframe tbody tr th {\n",
       "        vertical-align: top;\n",
       "    }\n",
       "\n",
       "    .dataframe thead th {\n",
       "        text-align: right;\n",
       "    }\n",
       "</style>\n",
       "<table border=\"1\" class=\"dataframe\">\n",
       "  <thead>\n",
       "    <tr style=\"text-align: right;\">\n",
       "      <th></th>\n",
       "      <th>Name</th>\n",
       "      <th>Type</th>\n",
       "      <th>hote premium</th>\n",
       "      <th>Price per Night</th>\n",
       "      <th>Total Price</th>\n",
       "      <th>Rating</th>\n",
       "      <th>Appreciations</th>\n",
       "      <th>Type of annoucement</th>\n",
       "      <th>Number of Guests</th>\n",
       "      <th>Number of Bedrooms</th>\n",
       "      <th>Number of Beds</th>\n",
       "    </tr>\n",
       "  </thead>\n",
       "  <tbody>\n",
       "    <tr>\n",
       "      <th>420</th>\n",
       "      <td>Smartflats Manneken Pis V - 1 Chambre - Centre...</td>\n",
       "      <td>Appartement</td>\n",
       "      <td>0</td>\n",
       "      <td>190.0</td>\n",
       "      <td>2465.0</td>\n",
       "      <td>3.3</td>\n",
       "      <td>3.0</td>\n",
       "      <td>Annonce professionnelle</td>\n",
       "      <td>2.0</td>\n",
       "      <td>1.0</td>\n",
       "      <td>1.0</td>\n",
       "    </tr>\n",
       "    <tr>\n",
       "      <th>421</th>\n",
       "      <td>1001 nuits avec vue Theatresquare</td>\n",
       "      <td>Maison</td>\n",
       "      <td>0</td>\n",
       "      <td>101.0</td>\n",
       "      <td>NaN</td>\n",
       "      <td>0.0</td>\n",
       "      <td>0.0</td>\n",
       "      <td>Annonce professionnelle</td>\n",
       "      <td>4.0</td>\n",
       "      <td>1.0</td>\n",
       "      <td>3.0</td>\n",
       "    </tr>\n",
       "    <tr>\n",
       "      <th>422</th>\n",
       "      <td>Bunte Stuv - Maison de vacances moderne et trè...</td>\n",
       "      <td>Maison</td>\n",
       "      <td>1</td>\n",
       "      <td>100.0</td>\n",
       "      <td>1298.0</td>\n",
       "      <td>0.0</td>\n",
       "      <td>0.0</td>\n",
       "      <td>rien</td>\n",
       "      <td>4.0</td>\n",
       "      <td>2.0</td>\n",
       "      <td>2.0</td>\n",
       "    </tr>\n",
       "    <tr>\n",
       "      <th>423</th>\n",
       "      <td>Près du Parlement Européen - Appartement rénov...</td>\n",
       "      <td>Appartement</td>\n",
       "      <td>1</td>\n",
       "      <td>216.0</td>\n",
       "      <td>2809.0</td>\n",
       "      <td>4.7</td>\n",
       "      <td>93.0</td>\n",
       "      <td>Particulier</td>\n",
       "      <td>5.0</td>\n",
       "      <td>2.0</td>\n",
       "      <td>3.0</td>\n",
       "    </tr>\n",
       "    <tr>\n",
       "      <th>424</th>\n",
       "      <td>Belle et charmante maison Perfect Location</td>\n",
       "      <td>Maison</td>\n",
       "      <td>0</td>\n",
       "      <td>NaN</td>\n",
       "      <td>NaN</td>\n",
       "      <td>3.6</td>\n",
       "      <td>7.0</td>\n",
       "      <td>Particulier</td>\n",
       "      <td>7.0</td>\n",
       "      <td>4.0</td>\n",
       "      <td>0.0</td>\n",
       "    </tr>\n",
       "  </tbody>\n",
       "</table>\n",
       "</div>"
      ],
      "text/plain": [
       "                                                  Name         Type  \\\n",
       "420  Smartflats Manneken Pis V - 1 Chambre - Centre...  Appartement   \n",
       "421                  1001 nuits avec vue Theatresquare       Maison   \n",
       "422  Bunte Stuv - Maison de vacances moderne et trè...       Maison   \n",
       "423  Près du Parlement Européen - Appartement rénov...  Appartement   \n",
       "424         Belle et charmante maison Perfect Location       Maison   \n",
       "\n",
       "     hote premium  Price per Night  Total Price  Rating  Appreciations  \\\n",
       "420             0            190.0       2465.0     3.3            3.0   \n",
       "421             0            101.0          NaN     0.0            0.0   \n",
       "422             1            100.0       1298.0     0.0            0.0   \n",
       "423             1            216.0       2809.0     4.7           93.0   \n",
       "424             0              NaN          NaN     3.6            7.0   \n",
       "\n",
       "         Type of annoucement  Number of Guests  Number of Bedrooms  \\\n",
       "420  Annonce professionnelle               2.0                 1.0   \n",
       "421  Annonce professionnelle               4.0                 1.0   \n",
       "422                     rien               4.0                 2.0   \n",
       "423              Particulier               5.0                 2.0   \n",
       "424              Particulier               7.0                 4.0   \n",
       "\n",
       "     Number of Beds  \n",
       "420             1.0  \n",
       "421             3.0  \n",
       "422             2.0  \n",
       "423             3.0  \n",
       "424             0.0  "
      ]
     },
     "execution_count": 134,
     "metadata": {},
     "output_type": "execute_result"
    }
   ],
   "source": [
    "df['Number of Guests'] = df['Number of Guests'].astype(float)\n",
    "df['Number of Bedrooms'] =df['Number of Bedrooms'].astype(float)\n",
    "df['Number of Beds'] = df['Number of Beds'].astype(float)\n",
    "df['Rating'] = df['Rating'].astype(float)\n",
    "df['Appreciations'] = df['Appreciations'].astype(float)\n",
    "#mapping = {'Annonce professionnelle': 1, 'Particulier': 0, 'rien': 'None'}\n",
    "#df['Type of annoucement'] = df['Type of annoucement'].map(mapping)\n",
    "df.tail()"
   ]
  },
  {
   "cell_type": "code",
   "execution_count": 135,
   "id": "bd5ae592",
   "metadata": {},
   "outputs": [
    {
     "data": {
      "text/html": [
       "<div>\n",
       "<style scoped>\n",
       "    .dataframe tbody tr th:only-of-type {\n",
       "        vertical-align: middle;\n",
       "    }\n",
       "\n",
       "    .dataframe tbody tr th {\n",
       "        vertical-align: top;\n",
       "    }\n",
       "\n",
       "    .dataframe thead th {\n",
       "        text-align: right;\n",
       "    }\n",
       "</style>\n",
       "<table border=\"1\" class=\"dataframe\">\n",
       "  <thead>\n",
       "    <tr style=\"text-align: right;\">\n",
       "      <th></th>\n",
       "      <th>Name</th>\n",
       "      <th>Type</th>\n",
       "      <th>hote premium</th>\n",
       "      <th>Price per Night</th>\n",
       "      <th>Total Price</th>\n",
       "      <th>Rating</th>\n",
       "      <th>Appreciations</th>\n",
       "      <th>Type of annoucement</th>\n",
       "      <th>Number of Guests</th>\n",
       "      <th>Number of Bedrooms</th>\n",
       "      <th>Number of Beds</th>\n",
       "    </tr>\n",
       "  </thead>\n",
       "  <tbody>\n",
       "    <tr>\n",
       "      <th>419</th>\n",
       "      <td>Villa Oostduinkerke</td>\n",
       "      <td>Villa</td>\n",
       "      <td>0</td>\n",
       "      <td>129.0</td>\n",
       "      <td>1679.0</td>\n",
       "      <td>0.0</td>\n",
       "      <td>0.0</td>\n",
       "      <td>Particulier</td>\n",
       "      <td>6.0</td>\n",
       "      <td>3.0</td>\n",
       "      <td>4.0</td>\n",
       "    </tr>\n",
       "    <tr>\n",
       "      <th>420</th>\n",
       "      <td>Smartflats Manneken Pis V - 1 Chambre - Centre...</td>\n",
       "      <td>Appartement</td>\n",
       "      <td>0</td>\n",
       "      <td>190.0</td>\n",
       "      <td>2465.0</td>\n",
       "      <td>3.3</td>\n",
       "      <td>3.0</td>\n",
       "      <td>Annonce professionnelle</td>\n",
       "      <td>2.0</td>\n",
       "      <td>1.0</td>\n",
       "      <td>1.0</td>\n",
       "    </tr>\n",
       "    <tr>\n",
       "      <th>421</th>\n",
       "      <td>1001 nuits avec vue Theatresquare</td>\n",
       "      <td>Maison</td>\n",
       "      <td>0</td>\n",
       "      <td>101.0</td>\n",
       "      <td>NaN</td>\n",
       "      <td>0.0</td>\n",
       "      <td>0.0</td>\n",
       "      <td>Annonce professionnelle</td>\n",
       "      <td>4.0</td>\n",
       "      <td>1.0</td>\n",
       "      <td>3.0</td>\n",
       "    </tr>\n",
       "    <tr>\n",
       "      <th>422</th>\n",
       "      <td>Bunte Stuv - Maison de vacances moderne et trè...</td>\n",
       "      <td>Maison</td>\n",
       "      <td>1</td>\n",
       "      <td>100.0</td>\n",
       "      <td>1298.0</td>\n",
       "      <td>0.0</td>\n",
       "      <td>0.0</td>\n",
       "      <td>rien</td>\n",
       "      <td>4.0</td>\n",
       "      <td>2.0</td>\n",
       "      <td>2.0</td>\n",
       "    </tr>\n",
       "    <tr>\n",
       "      <th>423</th>\n",
       "      <td>Près du Parlement Européen - Appartement rénov...</td>\n",
       "      <td>Appartement</td>\n",
       "      <td>1</td>\n",
       "      <td>216.0</td>\n",
       "      <td>2809.0</td>\n",
       "      <td>4.7</td>\n",
       "      <td>93.0</td>\n",
       "      <td>Particulier</td>\n",
       "      <td>5.0</td>\n",
       "      <td>2.0</td>\n",
       "      <td>3.0</td>\n",
       "    </tr>\n",
       "  </tbody>\n",
       "</table>\n",
       "</div>"
      ],
      "text/plain": [
       "                                                  Name         Type  \\\n",
       "419                                Villa Oostduinkerke        Villa   \n",
       "420  Smartflats Manneken Pis V - 1 Chambre - Centre...  Appartement   \n",
       "421                  1001 nuits avec vue Theatresquare       Maison   \n",
       "422  Bunte Stuv - Maison de vacances moderne et trè...       Maison   \n",
       "423  Près du Parlement Européen - Appartement rénov...  Appartement   \n",
       "\n",
       "     hote premium  Price per Night  Total Price  Rating  Appreciations  \\\n",
       "419             0            129.0       1679.0     0.0            0.0   \n",
       "420             0            190.0       2465.0     3.3            3.0   \n",
       "421             0            101.0          NaN     0.0            0.0   \n",
       "422             1            100.0       1298.0     0.0            0.0   \n",
       "423             1            216.0       2809.0     4.7           93.0   \n",
       "\n",
       "         Type of annoucement  Number of Guests  Number of Bedrooms  \\\n",
       "419              Particulier               6.0                 3.0   \n",
       "420  Annonce professionnelle               2.0                 1.0   \n",
       "421  Annonce professionnelle               4.0                 1.0   \n",
       "422                     rien               4.0                 2.0   \n",
       "423              Particulier               5.0                 2.0   \n",
       "\n",
       "     Number of Beds  \n",
       "419             4.0  \n",
       "420             1.0  \n",
       "421             3.0  \n",
       "422             2.0  \n",
       "423             3.0  "
      ]
     },
     "execution_count": 135,
     "metadata": {},
     "output_type": "execute_result"
    }
   ],
   "source": [
    "#The last line contains NaN so we delete it\n",
    "df = df.drop(df.index[-1])\n",
    "df.tail()"
   ]
  },
  {
   "cell_type": "code",
   "execution_count": 124,
   "id": "4226d6ea",
   "metadata": {
    "scrolled": true
   },
   "outputs": [
    {
     "name": "stdout",
     "output_type": "stream",
     "text": [
      "Name                    object\n",
      "Type                    object\n",
      "hote premium             int64\n",
      "Price per Night        float64\n",
      "Total Price            float64\n",
      "Rating                 float64\n",
      "Appreciations          float64\n",
      "Type of annoucement     object\n",
      "Number of Guests       float64\n",
      "Number of Bedrooms     float64\n",
      "Number of Beds         float64\n",
      "dtype: object\n"
     ]
    }
   ],
   "source": [
    "print(df.dtypes)"
   ]
  },
  {
   "cell_type": "code",
   "execution_count": 126,
   "id": "347b6298",
   "metadata": {
    "collapsed": true
   },
   "outputs": [
    {
     "data": {
      "image/png": "[encoded data removed]",
      "text/plain": [
       "<Figure size 1200x2200 with 36 Axes>"
      ]
     },
     "metadata": {},
     "output_type": "display_data"
    }
   ],
   "source": [
    "df_numerical = df.select_dtypes(include='float')\n",
    "\n",
    "df_numerical.hist(bins=20, figsize=(12, 22), edgecolor=\"black\",\n",
    "                    layout=(9, 4))\n",
    "plt.subplots_adjust(hspace=0.8, wspace=0.8)"
   ]
  },
  {
   "cell_type": "markdown",
   "id": "08a7e2a7",
   "metadata": {},
   "source": [
    "# Econometrics regression"
   ]
  },
  {
   "cell_type": "code",
   "execution_count": 127,
   "id": "759731a4",
   "metadata": {},
   "outputs": [],
   "source": [
    "import os\n",
    "import sys\n",
    "import warnings\n",
    "\n",
    "import numpy as np\n",
    "import pandas as pd\n",
    "import statsmodels.api as sm\n",
    "import statsmodels.formula.api as smf\n",
    "from scipy.stats import norm\n",
    "from IPython.core.display import HTML\n",
    "\n",
    "warnings.filterwarnings(\"ignore\")"
   ]
  },
  {
   "cell_type": "markdown",
   "id": "49e0b0c5",
   "metadata": {},
   "source": [
    "$$\\PriceperNight = \\alpha + \\beta_1 \\texttt{Rating} + \\beta_2 \\texttt{Number of Guests} + \\epsilon $$"
   ]
  },
  {
   "cell_type": "code",
   "execution_count": 137,
   "id": "c6180ab0",
   "metadata": {},
   "outputs": [
    {
     "data": {
      "text/html": [
       "<div>\n",
       "<style scoped>\n",
       "    .dataframe tbody tr th:only-of-type {\n",
       "        vertical-align: middle;\n",
       "    }\n",
       "\n",
       "    .dataframe tbody tr th {\n",
       "        vertical-align: top;\n",
       "    }\n",
       "\n",
       "    .dataframe thead th {\n",
       "        text-align: right;\n",
       "    }\n",
       "</style>\n",
       "<table border=\"1\" class=\"dataframe\">\n",
       "  <thead>\n",
       "    <tr style=\"text-align: right;\">\n",
       "      <th></th>\n",
       "      <th>Name</th>\n",
       "      <th>Type</th>\n",
       "      <th>hote premium</th>\n",
       "      <th>Price per Night</th>\n",
       "      <th>Total Price</th>\n",
       "      <th>Rating</th>\n",
       "      <th>Appreciations</th>\n",
       "      <th>Type of annoucement</th>\n",
       "      <th>Number of Guests</th>\n",
       "      <th>Number of Bedrooms</th>\n",
       "      <th>Number of Beds</th>\n",
       "      <th>lnprice</th>\n",
       "    </tr>\n",
       "  </thead>\n",
       "  <tbody>\n",
       "    <tr>\n",
       "      <th>0</th>\n",
       "      <td>95 m2 Appartement 5étage , 3 chambres, Wi-fi, ...</td>\n",
       "      <td>Appartement</td>\n",
       "      <td>1</td>\n",
       "      <td>122.0</td>\n",
       "      <td>1592.0</td>\n",
       "      <td>4.5</td>\n",
       "      <td>51.0</td>\n",
       "      <td>Particulier</td>\n",
       "      <td>7.0</td>\n",
       "      <td>3.0</td>\n",
       "      <td>7.0</td>\n",
       "      <td>4.804021</td>\n",
       "    </tr>\n",
       "    <tr>\n",
       "      <th>1</th>\n",
       "      <td>Grand jardin, moyenne montagne, à la campagne,...</td>\n",
       "      <td>Appartement</td>\n",
       "      <td>0</td>\n",
       "      <td>63.0</td>\n",
       "      <td>818.0</td>\n",
       "      <td>4.7</td>\n",
       "      <td>58.0</td>\n",
       "      <td>Particulier</td>\n",
       "      <td>4.0</td>\n",
       "      <td>1.0</td>\n",
       "      <td>3.0</td>\n",
       "      <td>4.143135</td>\n",
       "    </tr>\n",
       "    <tr>\n",
       "      <th>2</th>\n",
       "      <td>Bertogne: Ardennes Belges - Gite récent en bor...</td>\n",
       "      <td>Cottage</td>\n",
       "      <td>0</td>\n",
       "      <td>74.0</td>\n",
       "      <td>957.0</td>\n",
       "      <td>4.4</td>\n",
       "      <td>81.0</td>\n",
       "      <td>Particulier</td>\n",
       "      <td>6.0</td>\n",
       "      <td>3.0</td>\n",
       "      <td>7.0</td>\n",
       "      <td>4.304065</td>\n",
       "    </tr>\n",
       "    <tr>\n",
       "      <th>3</th>\n",
       "      <td>Chalet Zutendaal</td>\n",
       "      <td>Chalet</td>\n",
       "      <td>0</td>\n",
       "      <td>65.0</td>\n",
       "      <td>851.0</td>\n",
       "      <td>0.0</td>\n",
       "      <td>0.0</td>\n",
       "      <td>rien</td>\n",
       "      <td>4.0</td>\n",
       "      <td>2.0</td>\n",
       "      <td>0.0</td>\n",
       "      <td>4.174387</td>\n",
       "    </tr>\n",
       "    <tr>\n",
       "      <th>4</th>\n",
       "      <td>Ferme de Filot</td>\n",
       "      <td>Ferme</td>\n",
       "      <td>1</td>\n",
       "      <td>67.0</td>\n",
       "      <td>870.0</td>\n",
       "      <td>4.6</td>\n",
       "      <td>17.0</td>\n",
       "      <td>Particulier</td>\n",
       "      <td>4.0</td>\n",
       "      <td>1.0</td>\n",
       "      <td>2.0</td>\n",
       "      <td>4.204693</td>\n",
       "    </tr>\n",
       "  </tbody>\n",
       "</table>\n",
       "</div>"
      ],
      "text/plain": [
       "                                                Name         Type  \\\n",
       "0  95 m2 Appartement 5étage , 3 chambres, Wi-fi, ...  Appartement   \n",
       "1  Grand jardin, moyenne montagne, à la campagne,...  Appartement   \n",
       "2  Bertogne: Ardennes Belges - Gite récent en bor...      Cottage   \n",
       "3                                   Chalet Zutendaal       Chalet   \n",
       "4                                     Ferme de Filot        Ferme   \n",
       "\n",
       "   hote premium  Price per Night  Total Price  Rating  Appreciations  \\\n",
       "0             1            122.0       1592.0     4.5           51.0   \n",
       "1             0             63.0        818.0     4.7           58.0   \n",
       "2             0             74.0        957.0     4.4           81.0   \n",
       "3             0             65.0        851.0     0.0            0.0   \n",
       "4             1             67.0        870.0     4.6           17.0   \n",
       "\n",
       "  Type of annoucement  Number of Guests  Number of Bedrooms  Number of Beds  \\\n",
       "0         Particulier               7.0                 3.0             7.0   \n",
       "1         Particulier               4.0                 1.0             3.0   \n",
       "2         Particulier               6.0                 3.0             7.0   \n",
       "3                rien               4.0                 2.0             0.0   \n",
       "4         Particulier               4.0                 1.0             2.0   \n",
       "\n",
       "    lnprice  \n",
       "0  4.804021  \n",
       "1  4.143135  \n",
       "2  4.304065  \n",
       "3  4.174387  \n",
       "4  4.204693  "
      ]
     },
     "execution_count": 137,
     "metadata": {},
     "output_type": "execute_result"
    }
   ],
   "source": [
    "df['lnprice']=np.log(df['Price per Night'])\n",
    "#df=df.rename(columns={'Number of Guests':'nb_guests'})\n",
    "df.head()"
   ]
  },
  {
   "cell_type": "markdown",
   "id": "7e421164",
   "metadata": {},
   "source": [
    "Faudrait prendre le rating qu'on a clean dans la partie visualisation je crois. Ou au moins supprimé le zéro"
   ]
  },
  {
   "cell_type": "code",
   "execution_count": 129,
   "id": "0395c01e",
   "metadata": {},
   "outputs": [
    {
     "data": {
      "text/html": [
       "<table class=\"simpletable\">\n",
       "<caption>OLS Regression Results</caption>\n",
       "<tr>\n",
       "  <th>Dep. Variable:</th>         <td>lnprice</td>     <th>  R-squared:         </th> <td>   0.087</td>\n",
       "</tr>\n",
       "<tr>\n",
       "  <th>Model:</th>                   <td>OLS</td>       <th>  Adj. R-squared:    </th> <td>   0.083</td>\n",
       "</tr>\n",
       "<tr>\n",
       "  <th>Method:</th>             <td>Least Squares</td>  <th>  F-statistic:       </th> <td>   2.480</td>\n",
       "</tr>\n",
       "<tr>\n",
       "  <th>Date:</th>             <td>Thu, 04 May 2023</td> <th>  Prob (F-statistic):</th>  <td>0.0850</td> \n",
       "</tr>\n",
       "<tr>\n",
       "  <th>Time:</th>                 <td>13:34:12</td>     <th>  Log-Likelihood:    </th> <td> -379.33</td>\n",
       "</tr>\n",
       "<tr>\n",
       "  <th>No. Observations:</th>      <td>   424</td>      <th>  AIC:               </th> <td>   764.7</td>\n",
       "</tr>\n",
       "<tr>\n",
       "  <th>Df Residuals:</th>          <td>   421</td>      <th>  BIC:               </th> <td>   776.8</td>\n",
       "</tr>\n",
       "<tr>\n",
       "  <th>Df Model:</th>              <td>     2</td>      <th>                     </th>     <td> </td>   \n",
       "</tr>\n",
       "<tr>\n",
       "  <th>Covariance Type:</th>         <td>HC1</td>       <th>                     </th>     <td> </td>   \n",
       "</tr>\n",
       "</table>\n",
       "<table class=\"simpletable\">\n",
       "<tr>\n",
       "      <td></td>         <th>coef</th>     <th>std err</th>      <th>z</th>      <th>P>|z|</th>  <th>[0.025</th>    <th>0.975]</th>  \n",
       "</tr>\n",
       "<tr>\n",
       "  <th>Intercept</th> <td>    4.8892</td> <td>    0.110</td> <td>   44.435</td> <td> 0.000</td> <td>    4.673</td> <td>    5.105</td>\n",
       "</tr>\n",
       "<tr>\n",
       "  <th>Rating</th>    <td>   -0.0225</td> <td>    0.015</td> <td>   -1.548</td> <td> 0.122</td> <td>   -0.051</td> <td>    0.006</td>\n",
       "</tr>\n",
       "<tr>\n",
       "  <th>nb_guests</th> <td>    0.0308</td> <td>    0.017</td> <td>    1.787</td> <td> 0.074</td> <td>   -0.003</td> <td>    0.065</td>\n",
       "</tr>\n",
       "</table>\n",
       "<table class=\"simpletable\">\n",
       "<tr>\n",
       "  <th>Omnibus:</th>       <td>181.360</td> <th>  Durbin-Watson:     </th> <td>   1.734</td>\n",
       "</tr>\n",
       "<tr>\n",
       "  <th>Prob(Omnibus):</th> <td> 0.000</td>  <th>  Jarque-Bera (JB):  </th> <td>1899.047</td>\n",
       "</tr>\n",
       "<tr>\n",
       "  <th>Skew:</th>          <td> 1.532</td>  <th>  Prob(JB):          </th> <td>    0.00</td>\n",
       "</tr>\n",
       "<tr>\n",
       "  <th>Kurtosis:</th>      <td>12.905</td>  <th>  Cond. No.          </th> <td>    17.8</td>\n",
       "</tr>\n",
       "</table><br/><br/>Notes:<br/>[1] Standard Errors are heteroscedasticity robust (HC1)"
      ],
      "text/plain": [
       "<class 'statsmodels.iolib.summary.Summary'>\n",
       "\"\"\"\n",
       "                            OLS Regression Results                            \n",
       "==============================================================================\n",
       "Dep. Variable:                lnprice   R-squared:                       0.087\n",
       "Model:                            OLS   Adj. R-squared:                  0.083\n",
       "Method:                 Least Squares   F-statistic:                     2.480\n",
       "Date:                Thu, 04 May 2023   Prob (F-statistic):             0.0850\n",
       "Time:                        13:34:12   Log-Likelihood:                -379.33\n",
       "No. Observations:                 424   AIC:                             764.7\n",
       "Df Residuals:                     421   BIC:                             776.8\n",
       "Df Model:                           2                                         \n",
       "Covariance Type:                  HC1                                         \n",
       "==============================================================================\n",
       "                 coef    std err          z      P>|z|      [0.025      0.975]\n",
       "------------------------------------------------------------------------------\n",
       "Intercept      4.8892      0.110     44.435      0.000       4.673       5.105\n",
       "Rating        -0.0225      0.015     -1.548      0.122      -0.051       0.006\n",
       "nb_guests      0.0308      0.017      1.787      0.074      -0.003       0.065\n",
       "==============================================================================\n",
       "Omnibus:                      181.360   Durbin-Watson:                   1.734\n",
       "Prob(Omnibus):                  0.000   Jarque-Bera (JB):             1899.047\n",
       "Skew:                           1.532   Prob(JB):                         0.00\n",
       "Kurtosis:                      12.905   Cond. No.                         17.8\n",
       "==============================================================================\n",
       "\n",
       "Notes:\n",
       "[1] Standard Errors are heteroscedasticity robust (HC1)\n",
       "\"\"\""
      ]
     },
     "execution_count": 129,
     "metadata": {},
     "output_type": "execute_result"
    }
   ],
   "source": [
    "reg = smf.ols(formula='lnprice~Rating+nb_guests', data=df).fit(cov_type=\"HC1\")\n",
    "reg.summary()"
   ]
  },
  {
   "cell_type": "code",
   "execution_count": 130,
   "id": "29e14698",
   "metadata": {},
   "outputs": [
    {
     "data": {
      "text/plain": [
       "<AxesSubplot: xlabel='Rating', ylabel='lnprice'>"
      ]
     },
     "execution_count": 130,
     "metadata": {},
     "output_type": "execute_result"
    },
    {
     "data": {
      "image/png": "[encoded data removed]",
      "text/plain": [
       "<Figure size 850x500 with 1 Axes>"
      ]
     },
     "metadata": {},
     "output_type": "display_data"
    }
   ],
   "source": [
    "sns.regplot(x='Rating', y='lnprice', data=df)"
   ]
  },
  {
   "cell_type": "markdown",
   "id": "90340f25",
   "metadata": {},
   "source": [
    "# Supervised Machine Learning"
   ]
  },
  {
   "cell_type": "code",
   "execution_count": 142,
   "id": "08a20d0a",
   "metadata": {},
   "outputs": [],
   "source": [
    "y=df['lnprice']\n",
    "#est ce que c'est mieux de prendre le ln?\n",
    "features=df.drop(columns=['lnprice','Price per Night', 'Total Price'])#input"
   ]
  },
  {
   "cell_type": "markdown",
   "id": "8601d64b",
   "metadata": {},
   "source": [
    "## 1. Prepare the data for ML algorithms"
   ]
  },
  {
   "cell_type": "code",
   "execution_count": 143,
   "id": "4f28b536",
   "metadata": {},
   "outputs": [],
   "source": [
    "cat_col = [col for col in features if df[col].dtype == 'object']\n",
    "dum_col = [col for col in features if df[col].dtype == 'int64']\n",
    "num_col = [col for col in features if df[col].dtype == 'float64']"
   ]
  },
  {
   "cell_type": "code",
   "execution_count": 144,
   "id": "9e7440ee",
   "metadata": {},
   "outputs": [],
   "source": [
    "x=features[num_col]"
   ]
  },
  {
   "cell_type": "markdown",
   "id": "defca49e",
   "metadata": {},
   "source": [
    "## 2. Split train test sets"
   ]
  },
  {
   "cell_type": "code",
   "execution_count": 145,
   "id": "41a1fe61",
   "metadata": {},
   "outputs": [
    {
     "name": "stdout",
     "output_type": "stream",
     "text": [
      "train data (339, 5) (339,)\n",
      "test data (85, 5) (85,)\n"
     ]
    }
   ],
   "source": [
    "from sklearn.model_selection import train_test_split\n",
    "X_train, X_test, y_train, y_test = train_test_split(x, y,test_size=0.2, random_state=1)\n",
    "print(\"train data\", X_train.shape, y_train.shape)\n",
    "print(\"test data\", X_test.shape,  y_test.shape)"
   ]
  },
  {
   "cell_type": "code",
   "execution_count": 146,
   "id": "48fc4d87",
   "metadata": {},
   "outputs": [],
   "source": [
    "numeric_columns=list(X_train.select_dtypes('float64').columns)\n",
    "categorical_columns=list(X_train.select_dtypes('int64').columns)"
   ]
  },
  {
   "cell_type": "code",
   "execution_count": 147,
   "id": "9e1d517e",
   "metadata": {},
   "outputs": [],
   "source": [
    "from sklearn.compose import ColumnTransformer\n",
    "from sklearn.preprocessing import StandardScaler,OneHotEncoder\n",
    "\n",
    "\n",
    "pipeline=ColumnTransformer([\n",
    "    ('num',StandardScaler(),numeric_columns),\n",
    "    ('cat', OneHotEncoder() ,categorical_columns),\n",
    "])\n",
    "#for numerical columns --> standardscaler; for categorical columns --> OneHotEncoder\n",
    "\n",
    "X_train_scaled=pipeline.fit_transform(X_train)\n",
    "X_test_scaled=pipeline.fit_transform(X_test)"
   ]
  },
  {
   "cell_type": "markdown",
   "id": "7144061e",
   "metadata": {},
   "source": [
    "## 3. Select and train a model"
   ]
  },
  {
   "cell_type": "code",
   "execution_count": 148,
   "id": "24abd1fb",
   "metadata": {},
   "outputs": [
    {
     "data": {
      "text/html": [
       "<style>#sk-container-id-4 {color: black;background-color: white;}#sk-container-id-4 pre{padding: 0;}#sk-container-id-4 div.sk-toggleable {background-color: white;}#sk-container-id-4 label.sk-toggleable__label {cursor: pointer;display: block;width: 100%;margin-bottom: 0;padding: 0.3em;box-sizing: border-box;text-align: center;}#sk-container-id-4 label.sk-toggleable__label-arrow:before {content: \"▸\";float: left;margin-right: 0.25em;color: #696969;}#sk-container-id-4 label.sk-toggleable__label-arrow:hover:before {color: black;}#sk-container-id-4 div.sk-estimator:hover label.sk-toggleable__label-arrow:before {color: black;}#sk-container-id-4 div.sk-toggleable__content {max-height: 0;max-width: 0;overflow: hidden;text-align: left;background-color: #f0f8ff;}#sk-container-id-4 div.sk-toggleable__content pre {margin: 0.2em;color: black;border-radius: 0.25em;background-color: #f0f8ff;}#sk-container-id-4 input.sk-toggleable__control:checked~div.sk-toggleable__content {max-height: 200px;max-width: 100%;overflow: auto;}#sk-container-id-4 input.sk-toggleable__control:checked~label.sk-toggleable__label-arrow:before {content: \"▾\";}#sk-container-id-4 div.sk-estimator input.sk-toggleable__control:checked~label.sk-toggleable__label {background-color: #d4ebff;}#sk-container-id-4 div.sk-label input.sk-toggleable__control:checked~label.sk-toggleable__label {background-color: #d4ebff;}#sk-container-id-4 input.sk-hidden--visually {border: 0;clip: rect(1px 1px 1px 1px);clip: rect(1px, 1px, 1px, 1px);height: 1px;margin: -1px;overflow: hidden;padding: 0;position: absolute;width: 1px;}#sk-container-id-4 div.sk-estimator {font-family: monospace;background-color: #f0f8ff;border: 1px dotted black;border-radius: 0.25em;box-sizing: border-box;margin-bottom: 0.5em;}#sk-container-id-4 div.sk-estimator:hover {background-color: #d4ebff;}#sk-container-id-4 div.sk-parallel-item::after {content: \"\";width: 100%;border-bottom: 1px solid gray;flex-grow: 1;}#sk-container-id-4 div.sk-label:hover label.sk-toggleable__label {background-color: #d4ebff;}#sk-container-id-4 div.sk-serial::before {content: \"\";position: absolute;border-left: 1px solid gray;box-sizing: border-box;top: 0;bottom: 0;left: 50%;z-index: 0;}#sk-container-id-4 div.sk-serial {display: flex;flex-direction: column;align-items: center;background-color: white;padding-right: 0.2em;padding-left: 0.2em;position: relative;}#sk-container-id-4 div.sk-item {position: relative;z-index: 1;}#sk-container-id-4 div.sk-parallel {display: flex;align-items: stretch;justify-content: center;background-color: white;position: relative;}#sk-container-id-4 div.sk-item::before, #sk-container-id-4 div.sk-parallel-item::before {content: \"\";position: absolute;border-left: 1px solid gray;box-sizing: border-box;top: 0;bottom: 0;left: 50%;z-index: -1;}#sk-container-id-4 div.sk-parallel-item {display: flex;flex-direction: column;z-index: 1;position: relative;background-color: white;}#sk-container-id-4 div.sk-parallel-item:first-child::after {align-self: flex-end;width: 50%;}#sk-container-id-4 div.sk-parallel-item:last-child::after {align-self: flex-start;width: 50%;}#sk-container-id-4 div.sk-parallel-item:only-child::after {width: 0;}#sk-container-id-4 div.sk-dashed-wrapped {border: 1px dashed gray;margin: 0 0.4em 0.5em 0.4em;box-sizing: border-box;padding-bottom: 0.4em;background-color: white;}#sk-container-id-4 div.sk-label label {font-family: monospace;font-weight: bold;display: inline-block;line-height: 1.2em;}#sk-container-id-4 div.sk-label-container {text-align: center;}#sk-container-id-4 div.sk-container {/* jupyter's `normalize.less` sets `[hidden] { display: none; }` but bootstrap.min.css set `[hidden] { display: none !important; }` so we also need the `!important` here to be able to override the default hidden behavior on the sphinx rendered scikit-learn.org. See: https://github.com/scikit-learn/scikit-learn/issues/21755 */display: inline-block !important;position: relative;}#sk-container-id-4 div.sk-text-repr-fallback {display: none;}</style><div id=\"sk-container-id-4\" class=\"sk-top-container\"><div class=\"sk-text-repr-fallback\"><pre>LinearRegression()</pre><b>In a Jupyter environment, please rerun this cell to show the HTML representation or trust the notebook. <br />On GitHub, the HTML representation is unable to render, please try loading this page with nbviewer.org.</b></div><div class=\"sk-container\" hidden><div class=\"sk-item\"><div class=\"sk-estimator sk-toggleable\"><input class=\"sk-toggleable__control sk-hidden--visually\" id=\"sk-estimator-id-4\" type=\"checkbox\" checked><label for=\"sk-estimator-id-4\" class=\"sk-toggleable__label sk-toggleable__label-arrow\">LinearRegression</label><div class=\"sk-toggleable__content\"><pre>LinearRegression()</pre></div></div></div></div></div>"
      ],
      "text/plain": [
       "LinearRegression()"
      ]
     },
     "execution_count": 148,
     "metadata": {},
     "output_type": "execute_result"
    }
   ],
   "source": [
    "from sklearn.linear_model import LinearRegression\n",
    "lin_reg = LinearRegression()\n",
    "lin_reg"
   ]
  },
  {
   "cell_type": "code",
   "execution_count": 149,
   "id": "0409de19",
   "metadata": {},
   "outputs": [
    {
     "data": {
      "text/html": [
       "<style>#sk-container-id-5 {color: black;background-color: white;}#sk-container-id-5 pre{padding: 0;}#sk-container-id-5 div.sk-toggleable {background-color: white;}#sk-container-id-5 label.sk-toggleable__label {cursor: pointer;display: block;width: 100%;margin-bottom: 0;padding: 0.3em;box-sizing: border-box;text-align: center;}#sk-container-id-5 label.sk-toggleable__label-arrow:before {content: \"▸\";float: left;margin-right: 0.25em;color: #696969;}#sk-container-id-5 label.sk-toggleable__label-arrow:hover:before {color: black;}#sk-container-id-5 div.sk-estimator:hover label.sk-toggleable__label-arrow:before {color: black;}#sk-container-id-5 div.sk-toggleable__content {max-height: 0;max-width: 0;overflow: hidden;text-align: left;background-color: #f0f8ff;}#sk-container-id-5 div.sk-toggleable__content pre {margin: 0.2em;color: black;border-radius: 0.25em;background-color: #f0f8ff;}#sk-container-id-5 input.sk-toggleable__control:checked~div.sk-toggleable__content {max-height: 200px;max-width: 100%;overflow: auto;}#sk-container-id-5 input.sk-toggleable__control:checked~label.sk-toggleable__label-arrow:before {content: \"▾\";}#sk-container-id-5 div.sk-estimator input.sk-toggleable__control:checked~label.sk-toggleable__label {background-color: #d4ebff;}#sk-container-id-5 div.sk-label input.sk-toggleable__control:checked~label.sk-toggleable__label {background-color: #d4ebff;}#sk-container-id-5 input.sk-hidden--visually {border: 0;clip: rect(1px 1px 1px 1px);clip: rect(1px, 1px, 1px, 1px);height: 1px;margin: -1px;overflow: hidden;padding: 0;position: absolute;width: 1px;}#sk-container-id-5 div.sk-estimator {font-family: monospace;background-color: #f0f8ff;border: 1px dotted black;border-radius: 0.25em;box-sizing: border-box;margin-bottom: 0.5em;}#sk-container-id-5 div.sk-estimator:hover {background-color: #d4ebff;}#sk-container-id-5 div.sk-parallel-item::after {content: \"\";width: 100%;border-bottom: 1px solid gray;flex-grow: 1;}#sk-container-id-5 div.sk-label:hover label.sk-toggleable__label {background-color: #d4ebff;}#sk-container-id-5 div.sk-serial::before {content: \"\";position: absolute;border-left: 1px solid gray;box-sizing: border-box;top: 0;bottom: 0;left: 50%;z-index: 0;}#sk-container-id-5 div.sk-serial {display: flex;flex-direction: column;align-items: center;background-color: white;padding-right: 0.2em;padding-left: 0.2em;position: relative;}#sk-container-id-5 div.sk-item {position: relative;z-index: 1;}#sk-container-id-5 div.sk-parallel {display: flex;align-items: stretch;justify-content: center;background-color: white;position: relative;}#sk-container-id-5 div.sk-item::before, #sk-container-id-5 div.sk-parallel-item::before {content: \"\";position: absolute;border-left: 1px solid gray;box-sizing: border-box;top: 0;bottom: 0;left: 50%;z-index: -1;}#sk-container-id-5 div.sk-parallel-item {display: flex;flex-direction: column;z-index: 1;position: relative;background-color: white;}#sk-container-id-5 div.sk-parallel-item:first-child::after {align-self: flex-end;width: 50%;}#sk-container-id-5 div.sk-parallel-item:last-child::after {align-self: flex-start;width: 50%;}#sk-container-id-5 div.sk-parallel-item:only-child::after {width: 0;}#sk-container-id-5 div.sk-dashed-wrapped {border: 1px dashed gray;margin: 0 0.4em 0.5em 0.4em;box-sizing: border-box;padding-bottom: 0.4em;background-color: white;}#sk-container-id-5 div.sk-label label {font-family: monospace;font-weight: bold;display: inline-block;line-height: 1.2em;}#sk-container-id-5 div.sk-label-container {text-align: center;}#sk-container-id-5 div.sk-container {/* jupyter's `normalize.less` sets `[hidden] { display: none; }` but bootstrap.min.css set `[hidden] { display: none !important; }` so we also need the `!important` here to be able to override the default hidden behavior on the sphinx rendered scikit-learn.org. See: https://github.com/scikit-learn/scikit-learn/issues/21755 */display: inline-block !important;position: relative;}#sk-container-id-5 div.sk-text-repr-fallback {display: none;}</style><div id=\"sk-container-id-5\" class=\"sk-top-container\"><div class=\"sk-text-repr-fallback\"><pre>LinearRegression()</pre><b>In a Jupyter environment, please rerun this cell to show the HTML representation or trust the notebook. <br />On GitHub, the HTML representation is unable to render, please try loading this page with nbviewer.org.</b></div><div class=\"sk-container\" hidden><div class=\"sk-item\"><div class=\"sk-estimator sk-toggleable\"><input class=\"sk-toggleable__control sk-hidden--visually\" id=\"sk-estimator-id-5\" type=\"checkbox\" checked><label for=\"sk-estimator-id-5\" class=\"sk-toggleable__label sk-toggleable__label-arrow\">LinearRegression</label><div class=\"sk-toggleable__content\"><pre>LinearRegression()</pre></div></div></div></div></div>"
      ],
      "text/plain": [
       "LinearRegression()"
      ]
     },
     "execution_count": 149,
     "metadata": {},
     "output_type": "execute_result"
    }
   ],
   "source": [
    "X_train_num=X_train[numeric_columns]\n",
    "lin_reg.fit(X_train_num, y_train)"
   ]
  },
  {
   "cell_type": "code",
   "execution_count": 150,
   "id": "efab6ad3",
   "metadata": {},
   "outputs": [
    {
     "name": "stdout",
     "output_type": "stream",
     "text": [
      "R-squared for training dataset:0.23\n"
     ]
    }
   ],
   "source": [
    "print(\"R-squared for training dataset:{}\".\n",
    "      format(np.round(lin_reg.score(X_train_num, y_train), 2)))"
   ]
  },
  {
   "cell_type": "code",
   "execution_count": 151,
   "id": "0fce256b",
   "metadata": {},
   "outputs": [
    {
     "name": "stdout",
     "output_type": "stream",
     "text": [
      "R-squared for training dataset & scaled features:0.23\n"
     ]
    }
   ],
   "source": [
    "lin_reg.fit(X_train_scaled, y_train)\n",
    "print(\"R-squared for training dataset & scaled features:{}\".\n",
    "      format(np.round(lin_reg.score(X_train_scaled, y_train), 2)))"
   ]
  },
  {
   "cell_type": "markdown",
   "id": "79448637",
   "metadata": {},
   "source": [
    "**The R-squared is really low: what can we do abt it?**"
   ]
  },
  {
   "cell_type": "code",
   "execution_count": 152,
   "id": "d62b2868",
   "metadata": {},
   "outputs": [
    {
     "data": {
      "text/plain": [
       "array([-0.03463866, -0.08284384,  0.01041242,  0.19297851,  0.11387539])"
      ]
     },
     "execution_count": 152,
     "metadata": {},
     "output_type": "execute_result"
    }
   ],
   "source": [
    "lin_reg.coef_"
   ]
  },
  {
   "cell_type": "code",
   "execution_count": 153,
   "id": "45321587",
   "metadata": {},
   "outputs": [
    {
     "name": "stdout",
     "output_type": "stream",
     "text": [
      "The coefficients of the features from the linear model:\n",
      "{'Rating': -0.03, 'Appreciations': -0.08, 'Number of Guests': 0.01, 'Number of Bedrooms': 0.19, 'Number of Beds': 0.11}\n"
     ]
    }
   ],
   "source": [
    "print('The coefficients of the features from the linear model:')\n",
    "print(dict(zip(num_col+dum_col, [round(x, 2) for x in lin_reg.coef_])))"
   ]
  },
  {
   "cell_type": "markdown",
   "id": "2a78be9b",
   "metadata": {},
   "source": [
    "## 5. Metrics/ Error measures"
   ]
  },
  {
   "cell_type": "code",
   "execution_count": 154,
   "id": "5c253a94",
   "metadata": {},
   "outputs": [],
   "source": [
    "lin_reg = LinearRegression()\n",
    "lin_reg.fit(X_train_scaled, y_train)\n",
    "y_train_pred = lin_reg.predict(X_train_scaled)"
   ]
  },
  {
   "cell_type": "code",
   "execution_count": 155,
   "id": "6cb40764",
   "metadata": {},
   "outputs": [
    {
     "name": "stdout",
     "output_type": "stream",
     "text": [
      "RMSE: 0.553871595424295\n"
     ]
    }
   ],
   "source": [
    "from sklearn.metrics import mean_squared_error\n",
    "\n",
    "train_mse = mean_squared_error(y_train, y_train_pred)\n",
    "train_rmse = np.sqrt(train_mse)\n",
    "print(\"RMSE: %s\" % train_rmse) # = np.sqrt(np.mean((predicted - expected) ** 2)) "
   ]
  },
  {
   "cell_type": "code",
   "execution_count": 156,
   "id": "27ef8e36",
   "metadata": {},
   "outputs": [
    {
     "name": "stdout",
     "output_type": "stream",
     "text": [
      "RMS: 0.5218479415600792\n"
     ]
    }
   ],
   "source": [
    "#1. Out-of-sample performance = test RMSE\n",
    "y_test_pred = lin_reg.predict(X_test_scaled)    \n",
    "test_mse = mean_squared_error(y_test, y_test_pred)\n",
    "test_rmse = np.sqrt(test_mse)\n",
    "print(\"RMS: %s\" % test_rmse) "
   ]
  },
  {
   "cell_type": "code",
   "execution_count": 157,
   "id": "eefdb5f0",
   "metadata": {},
   "outputs": [
    {
     "data": {
      "image/png": "[encoded data removed]",
      "text/plain": [
       "<Figure size 850x500 with 1 Axes>"
      ]
     },
     "metadata": {},
     "output_type": "display_data"
    }
   ],
   "source": [
    "import seaborn as sns\n",
    "\n",
    "g=sns.regplot(x= y_test_pred, y=y_test, x_bins=100)\n",
    "g=g.set_title(\"Test sample\")\n",
    "\n",
    "plt.xlabel(\"Predicted log prices: $\\hat{Y}_i$\")\n",
    "plt.ylabel(\"Log prices: $Y_i$\")\n",
    "plt.annotate('Notes: 100 binned',\n",
    "            xy=(0, 0),  xycoords='figure fraction',\n",
    "            horizontalalignment='left',\n",
    "            verticalalignment='bottom')\n",
    "plt.axis('tight')\n",
    "plt.tight_layout()\n",
    "plt.show(g)"
   ]
  },
  {
   "cell_type": "code",
   "execution_count": 159,
   "id": "53d24fae",
   "metadata": {},
   "outputs": [
    {
     "data": {
      "image/png": "[encoded data removed]",
      "text/plain": [
       "<Figure size 1200x400 with 2 Axes>"
      ]
     },
     "metadata": {},
     "output_type": "display_data"
    }
   ],
   "source": [
    "#Let us plot how good given and predicted values match on the training data set (sic !).\n",
    "def plot_fit_quality(values_test, predicted):\n",
    "    \n",
    "    plt.figure(figsize=(12, 4))\n",
    "    plt.subplot(1, 2, 1)\n",
    "\n",
    "    x = np.arange(len(predicted))\n",
    "    plt.scatter(x, predicted - values_test, color='steelblue', marker='o') \n",
    "\n",
    "    plt.plot([0, len(predicted)], [0, 0], \"k:\")\n",
    "    \n",
    "    max_diff = np.max(np.abs(predicted - values_test))\n",
    "    plt.ylim([-max_diff, max_diff])\n",
    "    \n",
    "    plt.ylabel(\"error\")\n",
    "    plt.xlabel(\"sample id\")\n",
    "\n",
    "    plt.subplot(1, 2, 2)\n",
    "\n",
    "    plt.scatter(x, (predicted - values_test) / values_test, color='steelblue', marker='o') \n",
    "    plt.plot([0, len(predicted)], [0, 0], \"k:\")\n",
    "    plt.ylim([-.5, .5])\n",
    "      \n",
    "    plt.ylabel(\"relative error\")\n",
    "    plt.xlabel(\"sample id\")\n",
    "\n",
    "plot_fit_quality(y_test, y_test_pred)"
   ]
  }
 ],
 "metadata": {
  "kernelspec": {
   "display_name": "Python 3 (ipykernel)",
   "language": "python",
   "name": "python3"
  },
  "language_info": {
   "codemirror_mode": {
    "name": "ipython",
    "version": 3
   },
   "file_extension": ".py",
   "mimetype": "text/x-python",
   "name": "python",
   "nbconvert_exporter": "python",
   "pygments_lexer": "ipython3",
   "version": "3.9.16"
  }
 },
 "nbformat": 4,
 "nbformat_minor": 5
}

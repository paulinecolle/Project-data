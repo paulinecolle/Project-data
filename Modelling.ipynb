{
 "cells": [
  {
   "cell_type": "markdown",
   "id": "bfed520f",
   "metadata": {},
   "source": [
    "# Data management project: How to choose the best accomodation for your vacation in Belgium?\n",
    "# Part 3: Modelling\n",
    "**By Iman Ajdamova and Pauline Colle** "
   ]
  },
  {
   "cell_type": "markdown",
   "id": "4e664795",
   "metadata": {},
   "source": [
    "**Objective:**\n",
    "\n",
    "In this part of the project, we will try to model the relationship of the price with the other variables collected. The purpose is to determine which variables matters in determining the price, thereby enabling the consumer to make an informed choice. This will be achieved through a supervised machine learning procedure using a linear regression. In machine learning, an algorithm is used to search for the model that captures the best relationship. We first estimate the different models on a training set and test how well the model fits the test set, then choose the best model."
   ]
  },
  {
   "cell_type": "code",
   "execution_count": 54,
   "id": "743a2834",
   "metadata": {},
   "outputs": [],
   "source": [
    "import matplotlib.pyplot as plt\n",
    "import numpy as np\n",
    "import pandas as pd\n",
    "import seaborn as sns\n",
    "import statsmodels.api as sm"
   ]
  },
  {
   "cell_type": "markdown",
   "id": "bd8a0c4b",
   "metadata": {},
   "source": [
    "**Supervised ML**\n",
    "- typical supervised ML procedure:\n",
    "    1. Labeled data: decompose the observations in test/training set and pre-processing of the input variables\n",
    "    2. Learning: on a restricted sample: the training set; use an alogorithm to \"learn\" the association pattern between the input variables and the label\n",
    "    3. Assessing how the model fits the data (and choosing the best model): test the validity of the model on a test set (sample of the labeled data that had been held out); fit measured using the mean squarred error\"\n",
    "    4. Training the best model on the full data\n",
    "    5. Using the trained model for prediction tasks\n",
    "  "
   ]
  },
  {
   "cell_type": "markdown",
   "id": "ae4b23ff",
   "metadata": {},
   "source": [
    "# Loading and cleaning the data"
   ]
  },
  {
   "cell_type": "code",
   "execution_count": 25,
   "id": "7a997609",
   "metadata": {
    "scrolled": false
   },
   "outputs": [
    {
     "data": {
      "text/html": [
       "<div>\n",
       "<style scoped>\n",
       "    .dataframe tbody tr th:only-of-type {\n",
       "        vertical-align: middle;\n",
       "    }\n",
       "\n",
       "    .dataframe tbody tr th {\n",
       "        vertical-align: top;\n",
       "    }\n",
       "\n",
       "    .dataframe thead th {\n",
       "        text-align: right;\n",
       "    }\n",
       "</style>\n",
       "<table border=\"1\" class=\"dataframe\">\n",
       "  <thead>\n",
       "    <tr style=\"text-align: right;\">\n",
       "      <th></th>\n",
       "      <th>Name</th>\n",
       "      <th>Type</th>\n",
       "      <th>hote premium</th>\n",
       "      <th>Price per Night</th>\n",
       "      <th>Total Price</th>\n",
       "      <th>Rating</th>\n",
       "      <th>Appreciations</th>\n",
       "      <th>Type of annoucement</th>\n",
       "      <th>Number of Guests</th>\n",
       "      <th>Number of Bedrooms</th>\n",
       "      <th>Number of Beds</th>\n",
       "      <th>lieu</th>\n",
       "      <th>latitude</th>\n",
       "      <th>longitude</th>\n",
       "      <th>lnprice</th>\n",
       "    </tr>\n",
       "  </thead>\n",
       "  <tbody>\n",
       "    <tr>\n",
       "      <th>418</th>\n",
       "      <td>3 N appartement</td>\n",
       "      <td>Appartement</td>\n",
       "      <td>0</td>\n",
       "      <td>113</td>\n",
       "      <td>1472</td>\n",
       "      <td>0.0</td>\n",
       "      <td>0</td>\n",
       "      <td>Particulier</td>\n",
       "      <td>6</td>\n",
       "      <td>2</td>\n",
       "      <td>1</td>\n",
       "      <td>Eupen</td>\n",
       "      <td>50.630567</td>\n",
       "      <td>6.031272</td>\n",
       "      <td>4.727388</td>\n",
       "    </tr>\n",
       "    <tr>\n",
       "      <th>419</th>\n",
       "      <td>Appartement Van Hecke dans le centre-ville d'A...</td>\n",
       "      <td>Appartement</td>\n",
       "      <td>0</td>\n",
       "      <td>165</td>\n",
       "      <td>2143</td>\n",
       "      <td>0.0</td>\n",
       "      <td>0</td>\n",
       "      <td>Annonce professionnelle</td>\n",
       "      <td>2</td>\n",
       "      <td>1</td>\n",
       "      <td>0</td>\n",
       "      <td>Sint-Andries</td>\n",
       "      <td>51.192022</td>\n",
       "      <td>3.178019</td>\n",
       "      <td>5.105945</td>\n",
       "    </tr>\n",
       "    <tr>\n",
       "      <th>420</th>\n",
       "      <td>Villa Oostduinkerke</td>\n",
       "      <td>Villa</td>\n",
       "      <td>0</td>\n",
       "      <td>89</td>\n",
       "      <td>1156</td>\n",
       "      <td>0.0</td>\n",
       "      <td>0</td>\n",
       "      <td>Particulier</td>\n",
       "      <td>6</td>\n",
       "      <td>3</td>\n",
       "      <td>4</td>\n",
       "      <td>Oostduinkerke</td>\n",
       "      <td>51.115634</td>\n",
       "      <td>2.681266</td>\n",
       "      <td>4.488636</td>\n",
       "    </tr>\n",
       "    <tr>\n",
       "      <th>421</th>\n",
       "      <td>Appartement privé sise à Chaussée de Haecht, 3...</td>\n",
       "      <td>Appartement</td>\n",
       "      <td>0</td>\n",
       "      <td>129</td>\n",
       "      <td>1678</td>\n",
       "      <td>3.5</td>\n",
       "      <td>2</td>\n",
       "      <td>Particulier</td>\n",
       "      <td>4</td>\n",
       "      <td>2</td>\n",
       "      <td>3</td>\n",
       "      <td>Collignon</td>\n",
       "      <td>50.867604</td>\n",
       "      <td>4.373712</td>\n",
       "      <td>4.859812</td>\n",
       "    </tr>\n",
       "    <tr>\n",
       "      <th>422</th>\n",
       "      <td>Smartflats Manneken Pis V - 1 Chambre - Centre...</td>\n",
       "      <td>Appartement</td>\n",
       "      <td>0</td>\n",
       "      <td>216</td>\n",
       "      <td>2809</td>\n",
       "      <td>3.3</td>\n",
       "      <td>3</td>\n",
       "      <td>Annonce professionnelle</td>\n",
       "      <td>2</td>\n",
       "      <td>1</td>\n",
       "      <td>1</td>\n",
       "      <td>Quartier du Centre - Centrumwijk</td>\n",
       "      <td>50.846718</td>\n",
       "      <td>4.353221</td>\n",
       "      <td>5.375278</td>\n",
       "    </tr>\n",
       "  </tbody>\n",
       "</table>\n",
       "</div>"
      ],
      "text/plain": [
       "                                                  Name         Type  \\\n",
       "418                                    3 N appartement  Appartement   \n",
       "419  Appartement Van Hecke dans le centre-ville d'A...  Appartement   \n",
       "420                                Villa Oostduinkerke        Villa   \n",
       "421  Appartement privé sise à Chaussée de Haecht, 3...  Appartement   \n",
       "422  Smartflats Manneken Pis V - 1 Chambre - Centre...  Appartement   \n",
       "\n",
       "     hote premium  Price per Night  Total Price  Rating  Appreciations  \\\n",
       "418             0              113         1472     0.0              0   \n",
       "419             0              165         2143     0.0              0   \n",
       "420             0               89         1156     0.0              0   \n",
       "421             0              129         1678     3.5              2   \n",
       "422             0              216         2809     3.3              3   \n",
       "\n",
       "         Type of annoucement  Number of Guests  Number of Bedrooms  \\\n",
       "418              Particulier                 6                   2   \n",
       "419  Annonce professionnelle                 2                   1   \n",
       "420              Particulier                 6                   3   \n",
       "421              Particulier                 4                   2   \n",
       "422  Annonce professionnelle                 2                   1   \n",
       "\n",
       "     Number of Beds                              lieu   latitude  longitude  \\\n",
       "418               1                             Eupen  50.630567   6.031272   \n",
       "419               0                      Sint-Andries  51.192022   3.178019   \n",
       "420               4                     Oostduinkerke  51.115634   2.681266   \n",
       "421               3                         Collignon  50.867604   4.373712   \n",
       "422               1  Quartier du Centre - Centrumwijk  50.846718   4.353221   \n",
       "\n",
       "      lnprice  \n",
       "418  4.727388  \n",
       "419  5.105945  \n",
       "420  4.488636  \n",
       "421  4.859812  \n",
       "422  5.375278  "
      ]
     },
     "execution_count": 25,
     "metadata": {},
     "output_type": "execute_result"
    }
   ],
   "source": [
    "df=pd.read_excel(\"C:/Users/32498/Downloads/ECON2206-Data-Management-2023-main/GitHub/Project-data/Abritel_merged.xlsx\")\n",
    "df['lnprice']=np.log(df['Price per Night'])\n",
    "df.tail()"
   ]
  },
  {
   "cell_type": "code",
   "execution_count": 26,
   "id": "4cb7eea4",
   "metadata": {
    "scrolled": false
   },
   "outputs": [
    {
     "data": {
      "text/html": [
       "<div>\n",
       "<style scoped>\n",
       "    .dataframe tbody tr th:only-of-type {\n",
       "        vertical-align: middle;\n",
       "    }\n",
       "\n",
       "    .dataframe tbody tr th {\n",
       "        vertical-align: top;\n",
       "    }\n",
       "\n",
       "    .dataframe thead th {\n",
       "        text-align: right;\n",
       "    }\n",
       "</style>\n",
       "<table border=\"1\" class=\"dataframe\">\n",
       "  <thead>\n",
       "    <tr style=\"text-align: right;\">\n",
       "      <th></th>\n",
       "      <th>Name</th>\n",
       "      <th>Type</th>\n",
       "      <th>hote premium</th>\n",
       "      <th>Price per Night</th>\n",
       "      <th>Total Price</th>\n",
       "      <th>Rating</th>\n",
       "      <th>Appreciations</th>\n",
       "      <th>Type of annoucement</th>\n",
       "      <th>Number of Guests</th>\n",
       "      <th>Number of Bedrooms</th>\n",
       "      <th>Number of Beds</th>\n",
       "      <th>lieu</th>\n",
       "      <th>latitude</th>\n",
       "      <th>longitude</th>\n",
       "      <th>lnprice</th>\n",
       "    </tr>\n",
       "  </thead>\n",
       "  <tbody>\n",
       "    <tr>\n",
       "      <th>418</th>\n",
       "      <td>3 N appartement</td>\n",
       "      <td>Appartement</td>\n",
       "      <td>0</td>\n",
       "      <td>113.0</td>\n",
       "      <td>1472.0</td>\n",
       "      <td>0.0</td>\n",
       "      <td>0.0</td>\n",
       "      <td>Particulier</td>\n",
       "      <td>6.0</td>\n",
       "      <td>2.0</td>\n",
       "      <td>1.0</td>\n",
       "      <td>Eupen</td>\n",
       "      <td>50.630567</td>\n",
       "      <td>6.031272</td>\n",
       "      <td>4.727388</td>\n",
       "    </tr>\n",
       "    <tr>\n",
       "      <th>419</th>\n",
       "      <td>Appartement Van Hecke dans le centre-ville d'A...</td>\n",
       "      <td>Appartement</td>\n",
       "      <td>0</td>\n",
       "      <td>165.0</td>\n",
       "      <td>2143.0</td>\n",
       "      <td>0.0</td>\n",
       "      <td>0.0</td>\n",
       "      <td>Annonce professionnelle</td>\n",
       "      <td>2.0</td>\n",
       "      <td>1.0</td>\n",
       "      <td>0.0</td>\n",
       "      <td>Sint-Andries</td>\n",
       "      <td>51.192022</td>\n",
       "      <td>3.178019</td>\n",
       "      <td>5.105945</td>\n",
       "    </tr>\n",
       "    <tr>\n",
       "      <th>420</th>\n",
       "      <td>Villa Oostduinkerke</td>\n",
       "      <td>Villa</td>\n",
       "      <td>0</td>\n",
       "      <td>89.0</td>\n",
       "      <td>1156.0</td>\n",
       "      <td>0.0</td>\n",
       "      <td>0.0</td>\n",
       "      <td>Particulier</td>\n",
       "      <td>6.0</td>\n",
       "      <td>3.0</td>\n",
       "      <td>4.0</td>\n",
       "      <td>Oostduinkerke</td>\n",
       "      <td>51.115634</td>\n",
       "      <td>2.681266</td>\n",
       "      <td>4.488636</td>\n",
       "    </tr>\n",
       "    <tr>\n",
       "      <th>421</th>\n",
       "      <td>Appartement privé sise à Chaussée de Haecht, 3...</td>\n",
       "      <td>Appartement</td>\n",
       "      <td>0</td>\n",
       "      <td>129.0</td>\n",
       "      <td>1678.0</td>\n",
       "      <td>3.5</td>\n",
       "      <td>2.0</td>\n",
       "      <td>Particulier</td>\n",
       "      <td>4.0</td>\n",
       "      <td>2.0</td>\n",
       "      <td>3.0</td>\n",
       "      <td>Collignon</td>\n",
       "      <td>50.867604</td>\n",
       "      <td>4.373712</td>\n",
       "      <td>4.859812</td>\n",
       "    </tr>\n",
       "    <tr>\n",
       "      <th>422</th>\n",
       "      <td>Smartflats Manneken Pis V - 1 Chambre - Centre...</td>\n",
       "      <td>Appartement</td>\n",
       "      <td>0</td>\n",
       "      <td>216.0</td>\n",
       "      <td>2809.0</td>\n",
       "      <td>3.3</td>\n",
       "      <td>3.0</td>\n",
       "      <td>Annonce professionnelle</td>\n",
       "      <td>2.0</td>\n",
       "      <td>1.0</td>\n",
       "      <td>1.0</td>\n",
       "      <td>Quartier du Centre - Centrumwijk</td>\n",
       "      <td>50.846718</td>\n",
       "      <td>4.353221</td>\n",
       "      <td>5.375278</td>\n",
       "    </tr>\n",
       "  </tbody>\n",
       "</table>\n",
       "</div>"
      ],
      "text/plain": [
       "                                                  Name         Type  \\\n",
       "418                                    3 N appartement  Appartement   \n",
       "419  Appartement Van Hecke dans le centre-ville d'A...  Appartement   \n",
       "420                                Villa Oostduinkerke        Villa   \n",
       "421  Appartement privé sise à Chaussée de Haecht, 3...  Appartement   \n",
       "422  Smartflats Manneken Pis V - 1 Chambre - Centre...  Appartement   \n",
       "\n",
       "     hote premium  Price per Night  Total Price  Rating  Appreciations  \\\n",
       "418             0            113.0       1472.0     0.0            0.0   \n",
       "419             0            165.0       2143.0     0.0            0.0   \n",
       "420             0             89.0       1156.0     0.0            0.0   \n",
       "421             0            129.0       1678.0     3.5            2.0   \n",
       "422             0            216.0       2809.0     3.3            3.0   \n",
       "\n",
       "         Type of annoucement  Number of Guests  Number of Bedrooms  \\\n",
       "418              Particulier               6.0                 2.0   \n",
       "419  Annonce professionnelle               2.0                 1.0   \n",
       "420              Particulier               6.0                 3.0   \n",
       "421              Particulier               4.0                 2.0   \n",
       "422  Annonce professionnelle               2.0                 1.0   \n",
       "\n",
       "     Number of Beds                              lieu   latitude  longitude  \\\n",
       "418             1.0                             Eupen  50.630567   6.031272   \n",
       "419             0.0                      Sint-Andries  51.192022   3.178019   \n",
       "420             4.0                     Oostduinkerke  51.115634   2.681266   \n",
       "421             3.0                         Collignon  50.867604   4.373712   \n",
       "422             1.0  Quartier du Centre - Centrumwijk  50.846718   4.353221   \n",
       "\n",
       "      lnprice  \n",
       "418  4.727388  \n",
       "419  5.105945  \n",
       "420  4.488636  \n",
       "421  4.859812  \n",
       "422  5.375278  "
      ]
     },
     "execution_count": 26,
     "metadata": {},
     "output_type": "execute_result"
    }
   ],
   "source": [
    "df['Price per Night']=df['Price per Night'].astype(float)\n",
    "df['Total Price']=df['Total Price'].astype(float)\n",
    "df['Number of Guests'] = df['Number of Guests'].astype(float)\n",
    "df['Number of Bedrooms'] =df['Number of Bedrooms'].astype(float)\n",
    "df['Number of Beds'] = df['Number of Beds'].astype(float)\n",
    "df['Rating'] = df['Rating'].astype(float)\n",
    "df['Appreciations'] = df['Appreciations'].astype(float)\n",
    "df.tail()"
   ]
  },
  {
   "cell_type": "code",
   "execution_count": 27,
   "id": "4226d6ea",
   "metadata": {
    "scrolled": true
   },
   "outputs": [
    {
     "name": "stdout",
     "output_type": "stream",
     "text": [
      "Name                    object\n",
      "Type                    object\n",
      "hote premium             int64\n",
      "Price per Night        float64\n",
      "Total Price            float64\n",
      "Rating                 float64\n",
      "Appreciations          float64\n",
      "Type of annoucement     object\n",
      "Number of Guests       float64\n",
      "Number of Bedrooms     float64\n",
      "Number of Beds         float64\n",
      "lieu                    object\n",
      "latitude               float64\n",
      "longitude              float64\n",
      "lnprice                float64\n",
      "dtype: object\n"
     ]
    }
   ],
   "source": [
    "print(df.dtypes)"
   ]
  },
  {
   "cell_type": "markdown",
   "id": "a4ece67b",
   "metadata": {},
   "source": [
    "## Correlation"
   ]
  },
  {
   "cell_type": "code",
   "execution_count": 28,
   "id": "d804f926",
   "metadata": {
    "scrolled": false
   },
   "outputs": [
    {
     "data": {
      "text/html": [
       "<div>\n",
       "<style scoped>\n",
       "    .dataframe tbody tr th:only-of-type {\n",
       "        vertical-align: middle;\n",
       "    }\n",
       "\n",
       "    .dataframe tbody tr th {\n",
       "        vertical-align: top;\n",
       "    }\n",
       "\n",
       "    .dataframe thead th {\n",
       "        text-align: right;\n",
       "    }\n",
       "</style>\n",
       "<table border=\"1\" class=\"dataframe\">\n",
       "  <thead>\n",
       "    <tr style=\"text-align: right;\">\n",
       "      <th></th>\n",
       "      <th>Rating</th>\n",
       "      <th>Appreciations</th>\n",
       "      <th>Number of Guests</th>\n",
       "      <th>Number of Bedrooms</th>\n",
       "      <th>Number of Beds</th>\n",
       "      <th>latitude</th>\n",
       "      <th>longitude</th>\n",
       "      <th>lnprice</th>\n",
       "    </tr>\n",
       "  </thead>\n",
       "  <tbody>\n",
       "    <tr>\n",
       "      <th>0</th>\n",
       "      <td>4.5</td>\n",
       "      <td>51.0</td>\n",
       "      <td>7.0</td>\n",
       "      <td>3.0</td>\n",
       "      <td>7.0</td>\n",
       "      <td>51.118739</td>\n",
       "      <td>2.634960</td>\n",
       "      <td>4.804021</td>\n",
       "    </tr>\n",
       "    <tr>\n",
       "      <th>1</th>\n",
       "      <td>4.7</td>\n",
       "      <td>59.0</td>\n",
       "      <td>5.0</td>\n",
       "      <td>2.0</td>\n",
       "      <td>4.0</td>\n",
       "      <td>50.350609</td>\n",
       "      <td>5.493284</td>\n",
       "      <td>4.736198</td>\n",
       "    </tr>\n",
       "    <tr>\n",
       "      <th>2</th>\n",
       "      <td>5.0</td>\n",
       "      <td>1.0</td>\n",
       "      <td>2.0</td>\n",
       "      <td>1.0</td>\n",
       "      <td>0.0</td>\n",
       "      <td>51.238941</td>\n",
       "      <td>2.972449</td>\n",
       "      <td>4.343805</td>\n",
       "    </tr>\n",
       "    <tr>\n",
       "      <th>3</th>\n",
       "      <td>0.0</td>\n",
       "      <td>0.0</td>\n",
       "      <td>5.0</td>\n",
       "      <td>2.0</td>\n",
       "      <td>4.0</td>\n",
       "      <td>51.346426</td>\n",
       "      <td>3.275348</td>\n",
       "      <td>5.164786</td>\n",
       "    </tr>\n",
       "    <tr>\n",
       "      <th>4</th>\n",
       "      <td>4.7</td>\n",
       "      <td>94.0</td>\n",
       "      <td>5.0</td>\n",
       "      <td>2.0</td>\n",
       "      <td>3.0</td>\n",
       "      <td>50.842350</td>\n",
       "      <td>4.383945</td>\n",
       "      <td>4.605170</td>\n",
       "    </tr>\n",
       "  </tbody>\n",
       "</table>\n",
       "</div>"
      ],
      "text/plain": [
       "   Rating  Appreciations  Number of Guests  Number of Bedrooms  \\\n",
       "0     4.5           51.0               7.0                 3.0   \n",
       "1     4.7           59.0               5.0                 2.0   \n",
       "2     5.0            1.0               2.0                 1.0   \n",
       "3     0.0            0.0               5.0                 2.0   \n",
       "4     4.7           94.0               5.0                 2.0   \n",
       "\n",
       "   Number of Beds   latitude  longitude   lnprice  \n",
       "0             7.0  51.118739   2.634960  4.804021  \n",
       "1             4.0  50.350609   5.493284  4.736198  \n",
       "2             0.0  51.238941   2.972449  4.343805  \n",
       "3             4.0  51.346426   3.275348  5.164786  \n",
       "4             3.0  50.842350   4.383945  4.605170  "
      ]
     },
     "execution_count": 28,
     "metadata": {},
     "output_type": "execute_result"
    }
   ],
   "source": [
    "df_numerical = df.select_dtypes(include='float')\n",
    "features = df_numerical.drop(columns=['Total Price','Price per Night'])\n",
    "features.head()"
   ]
  },
  {
   "cell_type": "code",
   "execution_count": 29,
   "id": "faa65e48",
   "metadata": {},
   "outputs": [
    {
     "data": {
      "image/png": "[encoded data removed]",
      "text/plain": [
       "<Figure size 850x500 with 2 Axes>"
      ]
     },
     "metadata": {},
     "output_type": "display_data"
    }
   ],
   "source": [
    "sns.set(rc={'figure.figsize':(8.5,5)})\n",
    "correlation_matrix = features.corr().round(2)\n",
    "sns.heatmap(correlation_matrix) \n",
    "plt.show()"
   ]
  },
  {
   "cell_type": "markdown",
   "id": "57d4faf1",
   "metadata": {},
   "source": [
    "**Interpretation**\n",
    "\n",
    "Before trying to model our data thanks to machine learning, it can be interesting to see what variables are correlated or not together. In our supervised machine learning model, our variable of interest is the price, that we would like to model thanks to other explanatory variables gathered during the webscrapping part. \n",
    "\n",
    "We can see from the correlation matrix, that the price depends mostly on the three variables that are the number of guests, the number of bedrooms and the number of beds. These three variables are highly connected, and it makes sense that the price per night will be higher if more people can stay at the accommodation. \n",
    "\n",
    "We can also see that there is some slight correlation with the rating, as we found in the visualisation notebook."
   ]
  },
  {
   "cell_type": "markdown",
   "id": "90340f25",
   "metadata": {},
   "source": [
    "# Supervised Machine Learning"
   ]
  },
  {
   "cell_type": "markdown",
   "id": "8601d64b",
   "metadata": {},
   "source": [
    "## 1. Creating $X$ and $Y$"
   ]
  },
  {
   "cell_type": "code",
   "execution_count": 30,
   "id": "c574698e",
   "metadata": {},
   "outputs": [],
   "source": [
    "y=df['lnprice']\n",
    "features=df.drop(columns=['lnprice','Price per Night', 'Total Price'])"
   ]
  },
  {
   "cell_type": "code",
   "execution_count": 31,
   "id": "4f28b536",
   "metadata": {},
   "outputs": [],
   "source": [
    "cat_col = [col for col in features if df[col].dtype == 'object']\n",
    "dum_col = [col for col in features if df[col].dtype == 'int64']\n",
    "num_col = [col for col in features if df[col].dtype == 'float64']"
   ]
  },
  {
   "cell_type": "code",
   "execution_count": 32,
   "id": "b3ebbad9",
   "metadata": {},
   "outputs": [],
   "source": [
    "x=features[num_col+dum_col]"
   ]
  },
  {
   "cell_type": "code",
   "execution_count": 33,
   "id": "46b41b0c",
   "metadata": {},
   "outputs": [
    {
     "data": {
      "text/plain": [
       "['Rating',\n",
       " 'Number of Guests',\n",
       " 'Number of Bedrooms',\n",
       " 'Number of Beds',\n",
       " 'Appreciations',\n",
       " 'latitude',\n",
       " 'longitude',\n",
       " 'hote premium']"
      ]
     },
     "execution_count": 33,
     "metadata": {},
     "output_type": "execute_result"
    }
   ],
   "source": [
    "cols_M1=['Rating','Number of Guests','Number of Bedrooms','Number of Beds']\n",
    "cols_M2=cols_M1+['Appreciations','latitude','longitude']+['hote premium']\n",
    "cols_M2"
   ]
  },
  {
   "cell_type": "markdown",
   "id": "f5dd16da",
   "metadata": {},
   "source": [
    "*Notes:*\n",
    "\n",
    "We have defined the dependent variable, y, as the logarithm of the price per night. As for the independent variables, we have taken all the columns that are either numerical, i.e. that have the type 'float', and the dummies variables, i.e. that have the type int. \n",
    "\n",
    "Moreover, we would like to compare two different models, to see which one performs better. Looking at the correlation matrix, we see that the columns with the higher correlation are the number of guests, the number of bedrooms and the number of beds. In addition, we are quite interested in investigating the impact of the rating on the price. Therefore, the first model will only consist of these 4 variables. For the second model, the rest of the numerical and dummies variables will be added."
   ]
  },
  {
   "cell_type": "markdown",
   "id": "defca49e",
   "metadata": {},
   "source": [
    "## 2. Split train test sets"
   ]
  },
  {
   "cell_type": "code",
   "execution_count": 34,
   "id": "41a1fe61",
   "metadata": {
    "scrolled": true
   },
   "outputs": [
    {
     "name": "stdout",
     "output_type": "stream",
     "text": [
      "train data (338, 8) (338,)\n",
      "test data (85, 8) (85,)\n"
     ]
    }
   ],
   "source": [
    "from sklearn.model_selection import train_test_split\n",
    "X_train, X_test, y_train, y_test = train_test_split(x, y,test_size=0.2, random_state=1)\n",
    "print(\"train data\", X_train.shape, y_train.shape)\n",
    "print(\"test data\", X_test.shape,  y_test.shape)"
   ]
  },
  {
   "cell_type": "code",
   "execution_count": 35,
   "id": "2dc9be29",
   "metadata": {},
   "outputs": [],
   "source": [
    "#Select the training and test sets for both models\n",
    "X_train_M1=X_train[cols_M1]\n",
    "X_test_M1 =X_test[cols_M1]\n",
    "\n",
    "X_train_M2=X_train[cols_M2]\n",
    "X_test_M2=X_test[cols_M2]"
   ]
  },
  {
   "cell_type": "markdown",
   "id": "9431bbb5",
   "metadata": {},
   "source": [
    "#### Model 1"
   ]
  },
  {
   "cell_type": "code",
   "execution_count": 36,
   "id": "48fc4d87",
   "metadata": {},
   "outputs": [],
   "source": [
    "numeric_columns_M1=list(X_train_M1.select_dtypes('float64').columns)\n",
    "categorical_columns_M1=list(X_train_M1.select_dtypes('int64').columns)"
   ]
  },
  {
   "cell_type": "code",
   "execution_count": 37,
   "id": "9e1d517e",
   "metadata": {},
   "outputs": [
    {
     "data": {
      "text/html": [
       "<style>#sk-container-id-3 {color: black;background-color: white;}#sk-container-id-3 pre{padding: 0;}#sk-container-id-3 div.sk-toggleable {background-color: white;}#sk-container-id-3 label.sk-toggleable__label {cursor: pointer;display: block;width: 100%;margin-bottom: 0;padding: 0.3em;box-sizing: border-box;text-align: center;}#sk-container-id-3 label.sk-toggleable__label-arrow:before {content: \"▸\";float: left;margin-right: 0.25em;color: #696969;}#sk-container-id-3 label.sk-toggleable__label-arrow:hover:before {color: black;}#sk-container-id-3 div.sk-estimator:hover label.sk-toggleable__label-arrow:before {color: black;}#sk-container-id-3 div.sk-toggleable__content {max-height: 0;max-width: 0;overflow: hidden;text-align: left;background-color: #f0f8ff;}#sk-container-id-3 div.sk-toggleable__content pre {margin: 0.2em;color: black;border-radius: 0.25em;background-color: #f0f8ff;}#sk-container-id-3 input.sk-toggleable__control:checked~div.sk-toggleable__content {max-height: 200px;max-width: 100%;overflow: auto;}#sk-container-id-3 input.sk-toggleable__control:checked~label.sk-toggleable__label-arrow:before {content: \"▾\";}#sk-container-id-3 div.sk-estimator input.sk-toggleable__control:checked~label.sk-toggleable__label {background-color: #d4ebff;}#sk-container-id-3 div.sk-label input.sk-toggleable__control:checked~label.sk-toggleable__label {background-color: #d4ebff;}#sk-container-id-3 input.sk-hidden--visually {border: 0;clip: rect(1px 1px 1px 1px);clip: rect(1px, 1px, 1px, 1px);height: 1px;margin: -1px;overflow: hidden;padding: 0;position: absolute;width: 1px;}#sk-container-id-3 div.sk-estimator {font-family: monospace;background-color: #f0f8ff;border: 1px dotted black;border-radius: 0.25em;box-sizing: border-box;margin-bottom: 0.5em;}#sk-container-id-3 div.sk-estimator:hover {background-color: #d4ebff;}#sk-container-id-3 div.sk-parallel-item::after {content: \"\";width: 100%;border-bottom: 1px solid gray;flex-grow: 1;}#sk-container-id-3 div.sk-label:hover label.sk-toggleable__label {background-color: #d4ebff;}#sk-container-id-3 div.sk-serial::before {content: \"\";position: absolute;border-left: 1px solid gray;box-sizing: border-box;top: 0;bottom: 0;left: 50%;z-index: 0;}#sk-container-id-3 div.sk-serial {display: flex;flex-direction: column;align-items: center;background-color: white;padding-right: 0.2em;padding-left: 0.2em;position: relative;}#sk-container-id-3 div.sk-item {position: relative;z-index: 1;}#sk-container-id-3 div.sk-parallel {display: flex;align-items: stretch;justify-content: center;background-color: white;position: relative;}#sk-container-id-3 div.sk-item::before, #sk-container-id-3 div.sk-parallel-item::before {content: \"\";position: absolute;border-left: 1px solid gray;box-sizing: border-box;top: 0;bottom: 0;left: 50%;z-index: -1;}#sk-container-id-3 div.sk-parallel-item {display: flex;flex-direction: column;z-index: 1;position: relative;background-color: white;}#sk-container-id-3 div.sk-parallel-item:first-child::after {align-self: flex-end;width: 50%;}#sk-container-id-3 div.sk-parallel-item:last-child::after {align-self: flex-start;width: 50%;}#sk-container-id-3 div.sk-parallel-item:only-child::after {width: 0;}#sk-container-id-3 div.sk-dashed-wrapped {border: 1px dashed gray;margin: 0 0.4em 0.5em 0.4em;box-sizing: border-box;padding-bottom: 0.4em;background-color: white;}#sk-container-id-3 div.sk-label label {font-family: monospace;font-weight: bold;display: inline-block;line-height: 1.2em;}#sk-container-id-3 div.sk-label-container {text-align: center;}#sk-container-id-3 div.sk-container {/* jupyter's `normalize.less` sets `[hidden] { display: none; }` but bootstrap.min.css set `[hidden] { display: none !important; }` so we also need the `!important` here to be able to override the default hidden behavior on the sphinx rendered scikit-learn.org. See: https://github.com/scikit-learn/scikit-learn/issues/21755 */display: inline-block !important;position: relative;}#sk-container-id-3 div.sk-text-repr-fallback {display: none;}</style><div id=\"sk-container-id-3\" class=\"sk-top-container\"><div class=\"sk-text-repr-fallback\"><pre>ColumnTransformer(transformers=[(&#x27;num&#x27;, StandardScaler(),\n",
       "                                 [&#x27;Rating&#x27;, &#x27;Number of Guests&#x27;,\n",
       "                                  &#x27;Number of Bedrooms&#x27;, &#x27;Number of Beds&#x27;]),\n",
       "                                (&#x27;cat&#x27;, OneHotEncoder(), [])])</pre><b>In a Jupyter environment, please rerun this cell to show the HTML representation or trust the notebook. <br />On GitHub, the HTML representation is unable to render, please try loading this page with nbviewer.org.</b></div><div class=\"sk-container\" hidden><div class=\"sk-item sk-dashed-wrapped\"><div class=\"sk-label-container\"><div class=\"sk-label sk-toggleable\"><input class=\"sk-toggleable__control sk-hidden--visually\" id=\"sk-estimator-id-11\" type=\"checkbox\" ><label for=\"sk-estimator-id-11\" class=\"sk-toggleable__label sk-toggleable__label-arrow\">ColumnTransformer</label><div class=\"sk-toggleable__content\"><pre>ColumnTransformer(transformers=[(&#x27;num&#x27;, StandardScaler(),\n",
       "                                 [&#x27;Rating&#x27;, &#x27;Number of Guests&#x27;,\n",
       "                                  &#x27;Number of Bedrooms&#x27;, &#x27;Number of Beds&#x27;]),\n",
       "                                (&#x27;cat&#x27;, OneHotEncoder(), [])])</pre></div></div></div><div class=\"sk-parallel\"><div class=\"sk-parallel-item\"><div class=\"sk-item\"><div class=\"sk-label-container\"><div class=\"sk-label sk-toggleable\"><input class=\"sk-toggleable__control sk-hidden--visually\" id=\"sk-estimator-id-12\" type=\"checkbox\" ><label for=\"sk-estimator-id-12\" class=\"sk-toggleable__label sk-toggleable__label-arrow\">num</label><div class=\"sk-toggleable__content\"><pre>[&#x27;Rating&#x27;, &#x27;Number of Guests&#x27;, &#x27;Number of Bedrooms&#x27;, &#x27;Number of Beds&#x27;]</pre></div></div></div><div class=\"sk-serial\"><div class=\"sk-item\"><div class=\"sk-estimator sk-toggleable\"><input class=\"sk-toggleable__control sk-hidden--visually\" id=\"sk-estimator-id-13\" type=\"checkbox\" ><label for=\"sk-estimator-id-13\" class=\"sk-toggleable__label sk-toggleable__label-arrow\">StandardScaler</label><div class=\"sk-toggleable__content\"><pre>StandardScaler()</pre></div></div></div></div></div></div><div class=\"sk-parallel-item\"><div class=\"sk-item\"><div class=\"sk-label-container\"><div class=\"sk-label sk-toggleable\"><input class=\"sk-toggleable__control sk-hidden--visually\" id=\"sk-estimator-id-14\" type=\"checkbox\" ><label for=\"sk-estimator-id-14\" class=\"sk-toggleable__label sk-toggleable__label-arrow\">cat</label><div class=\"sk-toggleable__content\"><pre>[]</pre></div></div></div><div class=\"sk-serial\"><div class=\"sk-item\"><div class=\"sk-estimator sk-toggleable\"><input class=\"sk-toggleable__control sk-hidden--visually\" id=\"sk-estimator-id-15\" type=\"checkbox\" ><label for=\"sk-estimator-id-15\" class=\"sk-toggleable__label sk-toggleable__label-arrow\">OneHotEncoder</label><div class=\"sk-toggleable__content\"><pre>OneHotEncoder()</pre></div></div></div></div></div></div></div></div></div></div>"
      ],
      "text/plain": [
       "ColumnTransformer(transformers=[('num', StandardScaler(),\n",
       "                                 ['Rating', 'Number of Guests',\n",
       "                                  'Number of Bedrooms', 'Number of Beds']),\n",
       "                                ('cat', OneHotEncoder(), [])])"
      ]
     },
     "execution_count": 37,
     "metadata": {},
     "output_type": "execute_result"
    }
   ],
   "source": [
    "from sklearn.compose import ColumnTransformer\n",
    "from sklearn.preprocessing import StandardScaler,OneHotEncoder\n",
    "\n",
    "\n",
    "pipeline=ColumnTransformer([\n",
    "    ('num',StandardScaler(),numeric_columns_M1),\n",
    "    ('cat', OneHotEncoder() ,categorical_columns_M1),\n",
    "])\n",
    "\n",
    "pipeline"
   ]
  },
  {
   "cell_type": "code",
   "execution_count": 38,
   "id": "5f05b2fd",
   "metadata": {
    "scrolled": true
   },
   "outputs": [],
   "source": [
    "X_train_scaled_M1=pipeline.fit_transform(X_train_M1)\n",
    "X_test_scaled_M1=pipeline.fit_transform(X_test_M1)"
   ]
  },
  {
   "cell_type": "markdown",
   "id": "129a484a",
   "metadata": {},
   "source": [
    "*Explanations:*\n",
    "- Through the pipeline, the two columns of the first model, that are the numeric and categorical column,  are modified thanks to different transformers:\n",
    "    - The StandardScaler transformer will standardize the numerical values, by subtracting the mean and dividing by the standard deviation.\n",
    "    - The OneHotEncoder transformer creates a binary dummy variable for each category in the categorical column. Even thought there are no dummies variables in the first model, there is one in the second model. Therefore,  the variable \"hote premium\" in model 2 will be split into two variables, since each category is encoded as a separate binary column."
   ]
  },
  {
   "cell_type": "markdown",
   "id": "a39e20bd",
   "metadata": {},
   "source": [
    "#### Model 2"
   ]
  },
  {
   "cell_type": "code",
   "execution_count": 39,
   "id": "4d7f3599",
   "metadata": {},
   "outputs": [],
   "source": [
    "numeric_columns_M2=list(X_train_M2.select_dtypes('float64').columns)\n",
    "categorical_columns_M2=list(X_train_M2.select_dtypes('int64').columns)"
   ]
  },
  {
   "cell_type": "code",
   "execution_count": 40,
   "id": "c51acabc",
   "metadata": {},
   "outputs": [
    {
     "data": {
      "text/html": [
       "<style>#sk-container-id-4 {color: black;background-color: white;}#sk-container-id-4 pre{padding: 0;}#sk-container-id-4 div.sk-toggleable {background-color: white;}#sk-container-id-4 label.sk-toggleable__label {cursor: pointer;display: block;width: 100%;margin-bottom: 0;padding: 0.3em;box-sizing: border-box;text-align: center;}#sk-container-id-4 label.sk-toggleable__label-arrow:before {content: \"▸\";float: left;margin-right: 0.25em;color: #696969;}#sk-container-id-4 label.sk-toggleable__label-arrow:hover:before {color: black;}#sk-container-id-4 div.sk-estimator:hover label.sk-toggleable__label-arrow:before {color: black;}#sk-container-id-4 div.sk-toggleable__content {max-height: 0;max-width: 0;overflow: hidden;text-align: left;background-color: #f0f8ff;}#sk-container-id-4 div.sk-toggleable__content pre {margin: 0.2em;color: black;border-radius: 0.25em;background-color: #f0f8ff;}#sk-container-id-4 input.sk-toggleable__control:checked~div.sk-toggleable__content {max-height: 200px;max-width: 100%;overflow: auto;}#sk-container-id-4 input.sk-toggleable__control:checked~label.sk-toggleable__label-arrow:before {content: \"▾\";}#sk-container-id-4 div.sk-estimator input.sk-toggleable__control:checked~label.sk-toggleable__label {background-color: #d4ebff;}#sk-container-id-4 div.sk-label input.sk-toggleable__control:checked~label.sk-toggleable__label {background-color: #d4ebff;}#sk-container-id-4 input.sk-hidden--visually {border: 0;clip: rect(1px 1px 1px 1px);clip: rect(1px, 1px, 1px, 1px);height: 1px;margin: -1px;overflow: hidden;padding: 0;position: absolute;width: 1px;}#sk-container-id-4 div.sk-estimator {font-family: monospace;background-color: #f0f8ff;border: 1px dotted black;border-radius: 0.25em;box-sizing: border-box;margin-bottom: 0.5em;}#sk-container-id-4 div.sk-estimator:hover {background-color: #d4ebff;}#sk-container-id-4 div.sk-parallel-item::after {content: \"\";width: 100%;border-bottom: 1px solid gray;flex-grow: 1;}#sk-container-id-4 div.sk-label:hover label.sk-toggleable__label {background-color: #d4ebff;}#sk-container-id-4 div.sk-serial::before {content: \"\";position: absolute;border-left: 1px solid gray;box-sizing: border-box;top: 0;bottom: 0;left: 50%;z-index: 0;}#sk-container-id-4 div.sk-serial {display: flex;flex-direction: column;align-items: center;background-color: white;padding-right: 0.2em;padding-left: 0.2em;position: relative;}#sk-container-id-4 div.sk-item {position: relative;z-index: 1;}#sk-container-id-4 div.sk-parallel {display: flex;align-items: stretch;justify-content: center;background-color: white;position: relative;}#sk-container-id-4 div.sk-item::before, #sk-container-id-4 div.sk-parallel-item::before {content: \"\";position: absolute;border-left: 1px solid gray;box-sizing: border-box;top: 0;bottom: 0;left: 50%;z-index: -1;}#sk-container-id-4 div.sk-parallel-item {display: flex;flex-direction: column;z-index: 1;position: relative;background-color: white;}#sk-container-id-4 div.sk-parallel-item:first-child::after {align-self: flex-end;width: 50%;}#sk-container-id-4 div.sk-parallel-item:last-child::after {align-self: flex-start;width: 50%;}#sk-container-id-4 div.sk-parallel-item:only-child::after {width: 0;}#sk-container-id-4 div.sk-dashed-wrapped {border: 1px dashed gray;margin: 0 0.4em 0.5em 0.4em;box-sizing: border-box;padding-bottom: 0.4em;background-color: white;}#sk-container-id-4 div.sk-label label {font-family: monospace;font-weight: bold;display: inline-block;line-height: 1.2em;}#sk-container-id-4 div.sk-label-container {text-align: center;}#sk-container-id-4 div.sk-container {/* jupyter's `normalize.less` sets `[hidden] { display: none; }` but bootstrap.min.css set `[hidden] { display: none !important; }` so we also need the `!important` here to be able to override the default hidden behavior on the sphinx rendered scikit-learn.org. See: https://github.com/scikit-learn/scikit-learn/issues/21755 */display: inline-block !important;position: relative;}#sk-container-id-4 div.sk-text-repr-fallback {display: none;}</style><div id=\"sk-container-id-4\" class=\"sk-top-container\"><div class=\"sk-text-repr-fallback\"><pre>ColumnTransformer(transformers=[(&#x27;num&#x27;, StandardScaler(),\n",
       "                                 [&#x27;Rating&#x27;, &#x27;Number of Guests&#x27;,\n",
       "                                  &#x27;Number of Bedrooms&#x27;, &#x27;Number of Beds&#x27;,\n",
       "                                  &#x27;Appreciations&#x27;, &#x27;latitude&#x27;, &#x27;longitude&#x27;]),\n",
       "                                (&#x27;cat&#x27;, OneHotEncoder(), [&#x27;hote premium&#x27;])])</pre><b>In a Jupyter environment, please rerun this cell to show the HTML representation or trust the notebook. <br />On GitHub, the HTML representation is unable to render, please try loading this page with nbviewer.org.</b></div><div class=\"sk-container\" hidden><div class=\"sk-item sk-dashed-wrapped\"><div class=\"sk-label-container\"><div class=\"sk-label sk-toggleable\"><input class=\"sk-toggleable__control sk-hidden--visually\" id=\"sk-estimator-id-16\" type=\"checkbox\" ><label for=\"sk-estimator-id-16\" class=\"sk-toggleable__label sk-toggleable__label-arrow\">ColumnTransformer</label><div class=\"sk-toggleable__content\"><pre>ColumnTransformer(transformers=[(&#x27;num&#x27;, StandardScaler(),\n",
       "                                 [&#x27;Rating&#x27;, &#x27;Number of Guests&#x27;,\n",
       "                                  &#x27;Number of Bedrooms&#x27;, &#x27;Number of Beds&#x27;,\n",
       "                                  &#x27;Appreciations&#x27;, &#x27;latitude&#x27;, &#x27;longitude&#x27;]),\n",
       "                                (&#x27;cat&#x27;, OneHotEncoder(), [&#x27;hote premium&#x27;])])</pre></div></div></div><div class=\"sk-parallel\"><div class=\"sk-parallel-item\"><div class=\"sk-item\"><div class=\"sk-label-container\"><div class=\"sk-label sk-toggleable\"><input class=\"sk-toggleable__control sk-hidden--visually\" id=\"sk-estimator-id-17\" type=\"checkbox\" ><label for=\"sk-estimator-id-17\" class=\"sk-toggleable__label sk-toggleable__label-arrow\">num</label><div class=\"sk-toggleable__content\"><pre>[&#x27;Rating&#x27;, &#x27;Number of Guests&#x27;, &#x27;Number of Bedrooms&#x27;, &#x27;Number of Beds&#x27;, &#x27;Appreciations&#x27;, &#x27;latitude&#x27;, &#x27;longitude&#x27;]</pre></div></div></div><div class=\"sk-serial\"><div class=\"sk-item\"><div class=\"sk-estimator sk-toggleable\"><input class=\"sk-toggleable__control sk-hidden--visually\" id=\"sk-estimator-id-18\" type=\"checkbox\" ><label for=\"sk-estimator-id-18\" class=\"sk-toggleable__label sk-toggleable__label-arrow\">StandardScaler</label><div class=\"sk-toggleable__content\"><pre>StandardScaler()</pre></div></div></div></div></div></div><div class=\"sk-parallel-item\"><div class=\"sk-item\"><div class=\"sk-label-container\"><div class=\"sk-label sk-toggleable\"><input class=\"sk-toggleable__control sk-hidden--visually\" id=\"sk-estimator-id-19\" type=\"checkbox\" ><label for=\"sk-estimator-id-19\" class=\"sk-toggleable__label sk-toggleable__label-arrow\">cat</label><div class=\"sk-toggleable__content\"><pre>[&#x27;hote premium&#x27;]</pre></div></div></div><div class=\"sk-serial\"><div class=\"sk-item\"><div class=\"sk-estimator sk-toggleable\"><input class=\"sk-toggleable__control sk-hidden--visually\" id=\"sk-estimator-id-20\" type=\"checkbox\" ><label for=\"sk-estimator-id-20\" class=\"sk-toggleable__label sk-toggleable__label-arrow\">OneHotEncoder</label><div class=\"sk-toggleable__content\"><pre>OneHotEncoder()</pre></div></div></div></div></div></div></div></div></div></div>"
      ],
      "text/plain": [
       "ColumnTransformer(transformers=[('num', StandardScaler(),\n",
       "                                 ['Rating', 'Number of Guests',\n",
       "                                  'Number of Bedrooms', 'Number of Beds',\n",
       "                                  'Appreciations', 'latitude', 'longitude']),\n",
       "                                ('cat', OneHotEncoder(), ['hote premium'])])"
      ]
     },
     "execution_count": 40,
     "metadata": {},
     "output_type": "execute_result"
    }
   ],
   "source": [
    "from sklearn.compose import ColumnTransformer\n",
    "from sklearn.preprocessing import StandardScaler,OneHotEncoder\n",
    "\n",
    "\n",
    "pipeline=ColumnTransformer([\n",
    "    ('num',StandardScaler(),numeric_columns_M2),\n",
    "    ('cat', OneHotEncoder() ,categorical_columns_M2),\n",
    "])\n",
    "\n",
    "pipeline"
   ]
  },
  {
   "cell_type": "code",
   "execution_count": 41,
   "id": "57ed6958",
   "metadata": {},
   "outputs": [
    {
     "data": {
      "text/plain": [
       "(338, 9)"
      ]
     },
     "execution_count": 41,
     "metadata": {},
     "output_type": "execute_result"
    }
   ],
   "source": [
    "X_train_scaled_M2=pipeline.fit_transform(X_train_M2)\n",
    "X_test_scaled_M2=pipeline.fit_transform(X_test_M2)\n",
    "X_train_scaled_M2.shape"
   ]
  },
  {
   "cell_type": "code",
   "execution_count": 42,
   "id": "7bec449c",
   "metadata": {},
   "outputs": [
    {
     "data": {
      "text/plain": [
       "array(['num__Rating', 'num__Number of Guests', 'num__Number of Bedrooms',\n",
       "       'num__Number of Beds', 'num__Appreciations', 'num__latitude',\n",
       "       'num__longitude', 'cat__hote premium_0', 'cat__hote premium_1'],\n",
       "      dtype=object)"
      ]
     },
     "execution_count": 42,
     "metadata": {},
     "output_type": "execute_result"
    }
   ],
   "source": [
    "feature_names = pipeline.get_feature_names_out()\n",
    "feature_names"
   ]
  },
  {
   "cell_type": "markdown",
   "id": "acdf0aa8",
   "metadata": {},
   "source": [
    "*Note:* As we can see on the aboved-cells and as already explained, there is one more columns since the hote premium variable has been split into two. This information will be useful later on."
   ]
  },
  {
   "cell_type": "markdown",
   "id": "7144061e",
   "metadata": {},
   "source": [
    "## 3. Select and train a model"
   ]
  },
  {
   "cell_type": "markdown",
   "id": "b388fb83",
   "metadata": {},
   "source": [
    "We consider the `LinearRegression` for the regression algorithm."
   ]
  },
  {
   "cell_type": "markdown",
   "id": "79cd35f3",
   "metadata": {},
   "source": [
    "#### Model 1"
   ]
  },
  {
   "cell_type": "code",
   "execution_count": 43,
   "id": "096a86bc",
   "metadata": {},
   "outputs": [],
   "source": [
    "from sklearn.linear_model import LinearRegression"
   ]
  },
  {
   "cell_type": "code",
   "execution_count": 44,
   "id": "efab6ad3",
   "metadata": {},
   "outputs": [
    {
     "name": "stdout",
     "output_type": "stream",
     "text": [
      "R-squared for training dataset:0.27\n"
     ]
    }
   ],
   "source": [
    "lin_reg1 = LinearRegression()\n",
    "lin_reg1.fit(X_train_M1, y_train)\n",
    "print(\"R-squared for training dataset:{}\".\n",
    "      format(np.round(lin_reg1.score(X_train_M1, y_train), 2)))"
   ]
  },
  {
   "cell_type": "code",
   "execution_count": 45,
   "id": "0fce256b",
   "metadata": {
    "scrolled": true
   },
   "outputs": [
    {
     "name": "stdout",
     "output_type": "stream",
     "text": [
      "R-squared for training dataset & scaled features:0.27\n"
     ]
    }
   ],
   "source": [
    "lin_reg1.fit(X_train_scaled_M1, y_train)\n",
    "print(\"R-squared for training dataset & scaled features:{}\".\n",
    "      format(np.round(lin_reg1.score(X_train_scaled_M1, y_train), 2)))"
   ]
  },
  {
   "cell_type": "markdown",
   "id": "55383bea",
   "metadata": {},
   "source": [
    "*Explanations*:\n",
    "\n",
    "We compare the $R^2$ of the linear regression on the original and scaled features to examine their performance. Sometimes, scaling the numerical features can improve the performance of the model. We can notice that in this case, the two $R^2$ are equal."
   ]
  },
  {
   "cell_type": "markdown",
   "id": "79448637",
   "metadata": {},
   "source": [
    "*Interpretation*:\n",
    "\n",
    "$R^2$ expresses the proportion of the total variance of Y that is explained by the independent variables of the model. The one we found here is not extremely high, but the variables we have are already explaining 27% of the variance of the price.\n",
    "\n",
    "As a consequence, we can say that these variables are useful in determining the price, so consumers should take them into account, but there are other factors affecting it. Let's look at the value of the $R^2$ for the second model, to see whether it performs better."
   ]
  },
  {
   "cell_type": "markdown",
   "id": "fd372bb6",
   "metadata": {},
   "source": [
    "#### Model 2"
   ]
  },
  {
   "cell_type": "code",
   "execution_count": 46,
   "id": "346f9b8d",
   "metadata": {},
   "outputs": [
    {
     "name": "stdout",
     "output_type": "stream",
     "text": [
      "R-squared for training dataset:0.35\n"
     ]
    }
   ],
   "source": [
    "lin_reg2 = LinearRegression()\n",
    "lin_reg2.fit(X_train_M2, y_train)\n",
    "print(\"R-squared for training dataset:{}\".\n",
    "      format(np.round(lin_reg2.score(X_train_M2, y_train), 2)))"
   ]
  },
  {
   "cell_type": "code",
   "execution_count": 47,
   "id": "26f108ec",
   "metadata": {
    "scrolled": true
   },
   "outputs": [
    {
     "name": "stdout",
     "output_type": "stream",
     "text": [
      "R-squared for training dataset & scaled features:0.35\n"
     ]
    }
   ],
   "source": [
    "lin_reg2.fit(X_train_scaled_M2, y_train)\n",
    "print(\"R-squared for training dataset & scaled features:{}\".\n",
    "      format(np.round(lin_reg2.score(X_train_scaled_M2, y_train), 2)))"
   ]
  },
  {
   "cell_type": "markdown",
   "id": "df477007",
   "metadata": {},
   "source": [
    "*Interpretation*: \n",
    "\n",
    "We can see that the model 2 has a better $R^2$ than the model 1, it seems therefore more appropriate to use the second model.\n",
    "We can now look at the coefficients and the mean squared error of this model."
   ]
  },
  {
   "cell_type": "markdown",
   "id": "71accbac",
   "metadata": {},
   "source": [
    "### Coefficients of the linear regression"
   ]
  },
  {
   "cell_type": "code",
   "execution_count": 48,
   "id": "d62b2868",
   "metadata": {
    "scrolled": false
   },
   "outputs": [
    {
     "data": {
      "text/plain": [
       "array([ 0.0209145 ,  0.04228763,  0.25218791,  0.06197887, -0.06611156,\n",
       "        0.12219873, -0.02904097,  0.05895181, -0.05895181])"
      ]
     },
     "execution_count": 48,
     "metadata": {},
     "output_type": "execute_result"
    }
   ],
   "source": [
    "lin_reg2.coef_"
   ]
  },
  {
   "cell_type": "code",
   "execution_count": 52,
   "id": "5bdb584d",
   "metadata": {
    "scrolled": true
   },
   "outputs": [
    {
     "name": "stdout",
     "output_type": "stream",
     "text": [
      "The coefficients of the features from the linear model:\n",
      "{'Rating': 0.02, 'Number of Guests': 0.04, 'Number of Bedrooms': 0.25, 'Number of Beds': 0.06, 'Appreciations': -0.07, 'latitude': 0.12, 'longitude': -0.03, 'hote premium': 0.06}\n"
     ]
    }
   ],
   "source": [
    "print('The coefficients of the features from the linear model:')\n",
    "print(dict(zip(cols_M2, [round(x, 2) for x in lin_reg2.coef_])))"
   ]
  },
  {
   "cell_type": "markdown",
   "id": "345df043",
   "metadata": {},
   "source": [
    "**Interpretation**:\n",
    "\n",
    "These coefficients correspond to the partial correlation between the outcome (y) and each variable. The first thing that can be done is to look at the values of these coefficients. We can see that all variables have a positive coefficient, i.e. they are positively correlated with the logarithm of the price, except for the appreciations and the longitude. \n",
    "\n",
    "Moreover, we note that the highest coefficient corresponds to the variable \"number of bedrooms\". We know of course that the variable number of guests, bedrooms and beds are the most likely to positively influence the price. But now, we can see that it is actually the number of bedrooms that matters the most in determining the price.  \n",
    "\n",
    "Moreover, the coefficient of latitude is quite high. \n",
    "\n",
    "To determine whether these coefficients are significant, we should look at their p-values."
   ]
  },
  {
   "cell_type": "markdown",
   "id": "1096357f",
   "metadata": {},
   "source": [
    "**Are the coefficients significant?**"
   ]
  },
  {
   "cell_type": "code",
   "execution_count": 55,
   "id": "0c2537e8",
   "metadata": {},
   "outputs": [],
   "source": [
    "import statsmodels.api as sm"
   ]
  },
  {
   "cell_type": "code",
   "execution_count": 56,
   "id": "7e75778a",
   "metadata": {
    "scrolled": false
   },
   "outputs": [
    {
     "data": {
      "text/html": [
       "<table class=\"simpletable\">\n",
       "<caption>OLS Regression Results</caption>\n",
       "<tr>\n",
       "  <th>Dep. Variable:</th>         <td>lnprice</td>     <th>  R-squared:         </th> <td>   0.351</td>\n",
       "</tr>\n",
       "<tr>\n",
       "  <th>Model:</th>                   <td>OLS</td>       <th>  Adj. R-squared:    </th> <td>   0.335</td>\n",
       "</tr>\n",
       "<tr>\n",
       "  <th>Method:</th>             <td>Least Squares</td>  <th>  F-statistic:       </th> <td>   22.21</td>\n",
       "</tr>\n",
       "<tr>\n",
       "  <th>Date:</th>             <td>Sat, 03 Jun 2023</td> <th>  Prob (F-statistic):</th> <td>4.79e-27</td>\n",
       "</tr>\n",
       "<tr>\n",
       "  <th>Time:</th>                 <td>11:19:30</td>     <th>  Log-Likelihood:    </th> <td> -202.12</td>\n",
       "</tr>\n",
       "<tr>\n",
       "  <th>No. Observations:</th>      <td>   338</td>      <th>  AIC:               </th> <td>   422.2</td>\n",
       "</tr>\n",
       "<tr>\n",
       "  <th>Df Residuals:</th>          <td>   329</td>      <th>  BIC:               </th> <td>   456.7</td>\n",
       "</tr>\n",
       "<tr>\n",
       "  <th>Df Model:</th>              <td>     8</td>      <th>                     </th>     <td> </td>   \n",
       "</tr>\n",
       "<tr>\n",
       "  <th>Covariance Type:</th>      <td>nonrobust</td>    <th>                     </th>     <td> </td>   \n",
       "</tr>\n",
       "</table>\n",
       "<table class=\"simpletable\">\n",
       "<tr>\n",
       "    <td></td>       <th>coef</th>     <th>std err</th>      <th>t</th>      <th>P>|t|</th>  <th>[0.025</th>    <th>0.975]</th>  \n",
       "</tr>\n",
       "<tr>\n",
       "  <th>const</th> <td>    3.3103</td> <td>    0.017</td> <td>  200.578</td> <td> 0.000</td> <td>    3.278</td> <td>    3.343</td>\n",
       "</tr>\n",
       "<tr>\n",
       "  <th>x1</th>    <td>    0.0209</td> <td>    0.027</td> <td>    0.762</td> <td> 0.446</td> <td>   -0.033</td> <td>    0.075</td>\n",
       "</tr>\n",
       "<tr>\n",
       "  <th>x2</th>    <td>    0.0423</td> <td>    0.068</td> <td>    0.619</td> <td> 0.537</td> <td>   -0.092</td> <td>    0.177</td>\n",
       "</tr>\n",
       "<tr>\n",
       "  <th>x3</th>    <td>    0.2522</td> <td>    0.059</td> <td>    4.268</td> <td> 0.000</td> <td>    0.136</td> <td>    0.368</td>\n",
       "</tr>\n",
       "<tr>\n",
       "  <th>x4</th>    <td>    0.0620</td> <td>    0.041</td> <td>    1.526</td> <td> 0.128</td> <td>   -0.018</td> <td>    0.142</td>\n",
       "</tr>\n",
       "<tr>\n",
       "  <th>x5</th>    <td>   -0.0661</td> <td>    0.029</td> <td>   -2.309</td> <td> 0.022</td> <td>   -0.122</td> <td>   -0.010</td>\n",
       "</tr>\n",
       "<tr>\n",
       "  <th>x6</th>    <td>    0.1222</td> <td>    0.027</td> <td>    4.477</td> <td> 0.000</td> <td>    0.068</td> <td>    0.176</td>\n",
       "</tr>\n",
       "<tr>\n",
       "  <th>x7</th>    <td>   -0.0290</td> <td>    0.024</td> <td>   -1.188</td> <td> 0.236</td> <td>   -0.077</td> <td>    0.019</td>\n",
       "</tr>\n",
       "<tr>\n",
       "  <th>x8</th>    <td>    1.7141</td> <td>    0.026</td> <td>   66.662</td> <td> 0.000</td> <td>    1.664</td> <td>    1.765</td>\n",
       "</tr>\n",
       "<tr>\n",
       "  <th>x9</th>    <td>    1.5962</td> <td>    0.029</td> <td>   55.320</td> <td> 0.000</td> <td>    1.539</td> <td>    1.653</td>\n",
       "</tr>\n",
       "</table>\n",
       "<table class=\"simpletable\">\n",
       "<tr>\n",
       "  <th>Omnibus:</th>       <td>19.760</td> <th>  Durbin-Watson:     </th> <td>   1.908</td>\n",
       "</tr>\n",
       "<tr>\n",
       "  <th>Prob(Omnibus):</th> <td> 0.000</td> <th>  Jarque-Bera (JB):  </th> <td>  21.543</td>\n",
       "</tr>\n",
       "<tr>\n",
       "  <th>Skew:</th>          <td> 0.585</td> <th>  Prob(JB):          </th> <td>2.10e-05</td>\n",
       "</tr>\n",
       "<tr>\n",
       "  <th>Kurtosis:</th>      <td> 3.399</td> <th>  Cond. No.          </th> <td>1.95e+16</td>\n",
       "</tr>\n",
       "</table><br/><br/>Notes:<br/>[1] Standard Errors assume that the covariance matrix of the errors is correctly specified.<br/>[2] The smallest eigenvalue is 2.57e-30. This might indicate that there are<br/>strong multicollinearity problems or that the design matrix is singular."
      ],
      "text/latex": [
       "\\begin{center}\n",
       "\\begin{tabular}{lclc}\n",
       "\\toprule\n",
       "\\textbf{Dep. Variable:}    &     lnprice      & \\textbf{  R-squared:         } &     0.351   \\\\\n",
       "\\textbf{Model:}            &       OLS        & \\textbf{  Adj. R-squared:    } &     0.335   \\\\\n",
       "\\textbf{Method:}           &  Least Squares   & \\textbf{  F-statistic:       } &     22.21   \\\\\n",
       "\\textbf{Date:}             & Sat, 03 Jun 2023 & \\textbf{  Prob (F-statistic):} &  4.79e-27   \\\\\n",
       "\\textbf{Time:}             &     11:19:30     & \\textbf{  Log-Likelihood:    } &   -202.12   \\\\\n",
       "\\textbf{No. Observations:} &         338      & \\textbf{  AIC:               } &     422.2   \\\\\n",
       "\\textbf{Df Residuals:}     &         329      & \\textbf{  BIC:               } &     456.7   \\\\\n",
       "\\textbf{Df Model:}         &           8      & \\textbf{                     } &             \\\\\n",
       "\\textbf{Covariance Type:}  &    nonrobust     & \\textbf{                     } &             \\\\\n",
       "\\bottomrule\n",
       "\\end{tabular}\n",
       "\\begin{tabular}{lcccccc}\n",
       "               & \\textbf{coef} & \\textbf{std err} & \\textbf{t} & \\textbf{P$> |$t$|$} & \\textbf{[0.025} & \\textbf{0.975]}  \\\\\n",
       "\\midrule\n",
       "\\textbf{const} &       3.3103  &        0.017     &   200.578  &         0.000        &        3.278    &        3.343     \\\\\n",
       "\\textbf{x1}    &       0.0209  &        0.027     &     0.762  &         0.446        &       -0.033    &        0.075     \\\\\n",
       "\\textbf{x2}    &       0.0423  &        0.068     &     0.619  &         0.537        &       -0.092    &        0.177     \\\\\n",
       "\\textbf{x3}    &       0.2522  &        0.059     &     4.268  &         0.000        &        0.136    &        0.368     \\\\\n",
       "\\textbf{x4}    &       0.0620  &        0.041     &     1.526  &         0.128        &       -0.018    &        0.142     \\\\\n",
       "\\textbf{x5}    &      -0.0661  &        0.029     &    -2.309  &         0.022        &       -0.122    &       -0.010     \\\\\n",
       "\\textbf{x6}    &       0.1222  &        0.027     &     4.477  &         0.000        &        0.068    &        0.176     \\\\\n",
       "\\textbf{x7}    &      -0.0290  &        0.024     &    -1.188  &         0.236        &       -0.077    &        0.019     \\\\\n",
       "\\textbf{x8}    &       1.7141  &        0.026     &    66.662  &         0.000        &        1.664    &        1.765     \\\\\n",
       "\\textbf{x9}    &       1.5962  &        0.029     &    55.320  &         0.000        &        1.539    &        1.653     \\\\\n",
       "\\bottomrule\n",
       "\\end{tabular}\n",
       "\\begin{tabular}{lclc}\n",
       "\\textbf{Omnibus:}       & 19.760 & \\textbf{  Durbin-Watson:     } &    1.908  \\\\\n",
       "\\textbf{Prob(Omnibus):} &  0.000 & \\textbf{  Jarque-Bera (JB):  } &   21.543  \\\\\n",
       "\\textbf{Skew:}          &  0.585 & \\textbf{  Prob(JB):          } & 2.10e-05  \\\\\n",
       "\\textbf{Kurtosis:}      &  3.399 & \\textbf{  Cond. No.          } & 1.95e+16  \\\\\n",
       "\\bottomrule\n",
       "\\end{tabular}\n",
       "%\\caption{OLS Regression Results}\n",
       "\\end{center}\n",
       "\n",
       "Notes: \\newline\n",
       " [1] Standard Errors assume that the covariance matrix of the errors is correctly specified. \\newline\n",
       " [2] The smallest eigenvalue is 2.57e-30. This might indicate that there are \\newline\n",
       " strong multicollinearity problems or that the design matrix is singular."
      ],
      "text/plain": [
       "<class 'statsmodels.iolib.summary.Summary'>\n",
       "\"\"\"\n",
       "                            OLS Regression Results                            \n",
       "==============================================================================\n",
       "Dep. Variable:                lnprice   R-squared:                       0.351\n",
       "Model:                            OLS   Adj. R-squared:                  0.335\n",
       "Method:                 Least Squares   F-statistic:                     22.21\n",
       "Date:                Sat, 03 Jun 2023   Prob (F-statistic):           4.79e-27\n",
       "Time:                        11:19:30   Log-Likelihood:                -202.12\n",
       "No. Observations:                 338   AIC:                             422.2\n",
       "Df Residuals:                     329   BIC:                             456.7\n",
       "Df Model:                           8                                         \n",
       "Covariance Type:            nonrobust                                         \n",
       "==============================================================================\n",
       "                 coef    std err          t      P>|t|      [0.025      0.975]\n",
       "------------------------------------------------------------------------------\n",
       "const          3.3103      0.017    200.578      0.000       3.278       3.343\n",
       "x1             0.0209      0.027      0.762      0.446      -0.033       0.075\n",
       "x2             0.0423      0.068      0.619      0.537      -0.092       0.177\n",
       "x3             0.2522      0.059      4.268      0.000       0.136       0.368\n",
       "x4             0.0620      0.041      1.526      0.128      -0.018       0.142\n",
       "x5            -0.0661      0.029     -2.309      0.022      -0.122      -0.010\n",
       "x6             0.1222      0.027      4.477      0.000       0.068       0.176\n",
       "x7            -0.0290      0.024     -1.188      0.236      -0.077       0.019\n",
       "x8             1.7141      0.026     66.662      0.000       1.664       1.765\n",
       "x9             1.5962      0.029     55.320      0.000       1.539       1.653\n",
       "==============================================================================\n",
       "Omnibus:                       19.760   Durbin-Watson:                   1.908\n",
       "Prob(Omnibus):                  0.000   Jarque-Bera (JB):               21.543\n",
       "Skew:                           0.585   Prob(JB):                     2.10e-05\n",
       "Kurtosis:                       3.399   Cond. No.                     1.95e+16\n",
       "==============================================================================\n",
       "\n",
       "Notes:\n",
       "[1] Standard Errors assume that the covariance matrix of the errors is correctly specified.\n",
       "[2] The smallest eigenvalue is 2.57e-30. This might indicate that there are\n",
       "strong multicollinearity problems or that the design matrix is singular.\n",
       "\"\"\""
      ]
     },
     "execution_count": 56,
     "metadata": {},
     "output_type": "execute_result"
    }
   ],
   "source": [
    "X_train_with_intercept = sm.add_constant(X_train_scaled_M2)\n",
    "model=sm.OLS(y_train, X_train_with_intercept).fit()\n",
    "model.summary()"
   ]
  },
  {
   "cell_type": "markdown",
   "id": "761f0f63",
   "metadata": {},
   "source": [
    "In this OLS model, we have the coefficient corresponding to the variables as follows: x1=Rating, x2=Number of Guests, x3= Number of Bedrooms, x4=Number of Beds, x5=Appreciations, x6=latitude, x7=longitude, x8= hote premium with value 0, x9=hote premium with value 1.\n",
    "\n",
    "A coefficient will be non-significant if its p-value is higher than 5%. They are thus 4 non-significant variables in this linear regression: the coefficients of the rating, the number of guests, the number of beds and the longitude. Therefore, when looking at an accommodation, if customers are most focused on the price aspects, they should not take those variables too much in account. However, the other coefficients are significant, i.e. the ones for: the number of bedrooms, the number of appreciations, the latitude, and both vaues of the hote premium variable. \n",
    "\n",
    "Therefore, when customers are looking for accommodation, if they want a cheaper one they should look for one with fewer bedrooms. Having less bedrooms does not mean that fewer people can stay at the place, but they will have less room.  \n",
    "\n",
    "Moreover, we see that the location has some influence, especially the latitude. It is difficult to interpret this, but what we can say from the maps drawn in the visualisation part, is that they are some areas where prices are higher. \n",
    "\n",
    "It should be kept in mind that those results comes from a regression that has several assumptions, which might not always fit to the reality. Moreover, the sample being not really large, it is complicated to draw a conclusion for the whole population. The results might just be valid for the sample of observations gathered in the webscrapping part, i.e. the accommodation available in Belgium, the two first week of September."
   ]
  },
  {
   "cell_type": "markdown",
   "id": "2a78be9b",
   "metadata": {},
   "source": [
    "## 4. Metrics/ Error measures"
   ]
  },
  {
   "cell_type": "code",
   "execution_count": 57,
   "id": "5c253a94",
   "metadata": {},
   "outputs": [],
   "source": [
    "lin_reg2 = LinearRegression()\n",
    "lin_reg2.fit(X_train_scaled_M2, y_train)\n",
    "y_train_pred = lin_reg2.predict(X_train_scaled_M2)"
   ]
  },
  {
   "cell_type": "markdown",
   "id": "f5f8e595",
   "metadata": {},
   "source": [
    "**MSE on train set**"
   ]
  },
  {
   "cell_type": "code",
   "execution_count": 58,
   "id": "6cb40764",
   "metadata": {},
   "outputs": [
    {
     "name": "stdout",
     "output_type": "stream",
     "text": [
      "RMSE: 0.44001758696575355\n"
     ]
    }
   ],
   "source": [
    "from sklearn.metrics import mean_squared_error\n",
    "\n",
    "train_mse = mean_squared_error(y_train, y_train_pred)\n",
    "train_rmse = np.sqrt(train_mse)\n",
    "print(\"RMSE: %s\" % train_rmse)"
   ]
  },
  {
   "cell_type": "markdown",
   "id": "d58bd1cb",
   "metadata": {},
   "source": [
    "**MSE on test set**"
   ]
  },
  {
   "cell_type": "code",
   "execution_count": 59,
   "id": "27ef8e36",
   "metadata": {
    "scrolled": false
   },
   "outputs": [
    {
     "name": "stdout",
     "output_type": "stream",
     "text": [
      "RMSE: 0.42497691072330074\n"
     ]
    }
   ],
   "source": [
    "y_test_pred = lin_reg2.predict(X_test_scaled_M2)    \n",
    "test_mse = mean_squared_error(y_test, y_test_pred)\n",
    "test_rmse = np.sqrt(test_mse)\n",
    "print(\"RMSE: %s\" % test_rmse) "
   ]
  },
  {
   "cell_type": "markdown",
   "id": "fa8b9983",
   "metadata": {},
   "source": [
    "**Interpretation**\n",
    "\n",
    "The mean squared error is a metric of how well a model fits the data. It measures the average squared difference between the observed and predicted value. A model with no error will have an MSE of zero. Taking the root of the MSE gives the root mean square error (RMSE), which measures the average difference between a statistical model's predicted values and the actual values.\n",
    "\n",
    "We would therefore like a model with the smallest MSE and RMSE as possible. In our model, there would still be room to improve the RMSE."
   ]
  },
  {
   "cell_type": "markdown",
   "id": "617cda0f",
   "metadata": {},
   "source": [
    "## 5. Graphical representation"
   ]
  },
  {
   "cell_type": "markdown",
   "id": "1dbf7338",
   "metadata": {},
   "source": [
    "### Binned regression plots"
   ]
  },
  {
   "cell_type": "code",
   "execution_count": 60,
   "id": "eefdb5f0",
   "metadata": {
    "scrolled": true
   },
   "outputs": [
    {
     "data": {
      "image/png": "[encoded data removed]",
      "text/plain": [
       "<Figure size 850x500 with 1 Axes>"
      ]
     },
     "metadata": {},
     "output_type": "display_data"
    }
   ],
   "source": [
    "import seaborn as sns\n",
    "\n",
    "g=sns.regplot(x= y_test_pred, y=y_test, x_bins=100)\n",
    "g=g.set_title(\"Test sample\")\n",
    "plt.xlabel(\"Predicted log prices: $\\hat{Y}_i$\")\n",
    "plt.ylabel(\"Log prices: $Y_i$\")\n",
    "\n",
    "plt.annotate('Notes: 100 binned',\n",
    "            xy=(0, 0),  xycoords='figure fraction',\n",
    "            horizontalalignment='left',\n",
    "            verticalalignment='bottom')\n",
    "plt.axis('tight')\n",
    "plt.tight_layout()\n",
    "plt.show(g)"
   ]
  },
  {
   "cell_type": "markdown",
   "id": "0f44d30b",
   "metadata": {},
   "source": [
    "**Interpretation**: The binned regression plot tells us if the model is well specified, which looks true in this case."
   ]
  },
  {
   "cell_type": "code",
   "execution_count": 61,
   "id": "53d24fae",
   "metadata": {},
   "outputs": [
    {
     "data": {
      "image/png": "[encoded data removed]",
      "text/plain": [
       "<Figure size 1200x400 with 2 Axes>"
      ]
     },
     "metadata": {},
     "output_type": "display_data"
    }
   ],
   "source": [
    "#Plot of how good given and predicted values match on the training data set\n",
    "def plot_fit_quality(values_test, predicted):\n",
    "    \n",
    "    plt.figure(figsize=(12, 4))\n",
    "    plt.subplot(1, 2, 1)\n",
    "\n",
    "    x = np.arange(len(predicted))\n",
    "    plt.scatter(x, predicted - values_test, color='steelblue', marker='o') \n",
    "\n",
    "    plt.plot([0, len(predicted)], [0, 0], \"k:\")\n",
    "    \n",
    "    max_diff = np.max(np.abs(predicted - values_test))\n",
    "    plt.ylim([-max_diff, max_diff])\n",
    "    \n",
    "    plt.ylabel(\"error\")\n",
    "    plt.xlabel(\"sample id\")\n",
    "\n",
    "    plt.subplot(1, 2, 2)\n",
    "\n",
    "    plt.scatter(x, (predicted - values_test) / values_test, color='steelblue', marker='o') \n",
    "    plt.plot([0, len(predicted)], [0, 0], \"k:\")\n",
    "    plt.ylim([-.5, .5])\n",
    "      \n",
    "    plt.ylabel(\"relative error\")\n",
    "    plt.xlabel(\"sample id\")\n",
    "\n",
    "plot_fit_quality(y_test, y_test_pred)"
   ]
  },
  {
   "cell_type": "markdown",
   "id": "f8d78e36",
   "metadata": {},
   "source": [
    "*Observations:*\n",
    "\n",
    "The left scatterplot plots the difference between the predicted and the actual values (the error), while the right scatterplot plots the relative error, which is (predicted - actual values)/actual values.\n",
    "\n",
    "We see that the observations on the graphs are not too far from 0, which means that the predicted values are not too far from the actual values, especially in relative terms."
   ]
  }
 ],
 "metadata": {
  "kernelspec": {
   "display_name": "Python 3 (ipykernel)",
   "language": "python",
   "name": "python3"
  },
  "language_info": {
   "codemirror_mode": {
    "name": "ipython",
    "version": 3
   },
   "file_extension": ".py",
   "mimetype": "text/x-python",
   "name": "python",
   "nbconvert_exporter": "python",
   "pygments_lexer": "ipython3",
   "version": "3.9.16"
  }
 },
 "nbformat": 4,
 "nbformat_minor": 5
}
